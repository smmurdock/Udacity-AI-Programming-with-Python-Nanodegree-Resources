{
 "cells": [
  {
   "cell_type": "markdown",
   "metadata": {
    "grader_id": "7lekqvk4x7p"
   },
   "source": [
    "## Quiz 1: Evaluating Model Performance\n",
    "### Scenario:\n",
    "You are working on a project where you need to analyze the average prediction accuracy of a machine learning model over the last three months. The accuracy scores for the last three months are 85.5%, 90.2%, and 87.3%.\n",
    "\n",
    "### Task:\n",
    "Write an expression to calculate the mean prediction accuracy over these three months."
   ]
  },
  {
   "cell_type": "code",
   "execution_count": 1,
   "metadata": {
    "grader_id": "v4enmhmoylc"
   },
   "outputs": [
    {
     "name": "stdout",
     "output_type": "stream",
     "text": [
      "The average prediction accuracy over the last three months is 87.67%\n"
     ]
    }
   ],
   "source": [
    "# Accuracy scores for the last three months\n",
    "accuracy_scores = [85.5, 90.2, 87.3]\n",
    "\n",
    "# Calculate the average accuracy\n",
    "average_accuracy = sum(accuracy_scores) / len(accuracy_scores) #replace `None` with your code\n",
    "\n",
    "print(f\"The average prediction accuracy over the last three months is {average_accuracy:.2f}%\")\n"
   ]
  },
  {
   "cell_type": "markdown",
   "metadata": {
    "grader_id": "4flfl933k86"
   },
   "source": [
    "## Quiz 2: Managing Data Storage for Machine Learning Projects\n",
    "### Scenario:\n",
    "You are optimizing the data storage for a machine learning project. You have two datasets of image files for training. One dataset contains 4000 images, and the other contains 3000 images. Each image is 256KB in size. Additionally, you receive a new storage device with 2048MB capacity.\n",
    "\n",
    "### Tasks:\n",
    "\n",
    "1. Calculate the total storage needed for both datasets in MB.\n",
    "2. Determine how much storage will be left after storing all images on the new device in MB."
   ]
  },
  {
   "cell_type": "code",
   "execution_count": 3,
   "metadata": {
    "grader_id": "3uo62imjkg5"
   },
   "outputs": [
    {
     "name": "stdout",
     "output_type": "stream",
     "text": [
      "Total storage needed: 1750.00 MB\n",
      "Storage left after storing all images: 298.00 MB\n"
     ]
    }
   ],
   "source": [
    "# Sizes of datasets (in images)\n",
    "dataset1_size = 4000\n",
    "dataset2_size = 3000\n",
    "\n",
    "# Size of each image in KB\n",
    "image_size_kb = 256\n",
    "\n",
    "# Calculate total storage needed (in KB)\n",
    "total_storage_kb = (dataset1_size + dataset2_size) * image_size_kb #replace `None` with your code\n",
    "\n",
    "# Convert total storage needed to MB\n",
    "total_storage_mb = total_storage_kb / 1024\n",
    "print(f\"Total storage needed: {total_storage_mb:.2f} MB\")\n",
    "\n",
    "# Storage device capacity (in MB)\n",
    "device_capacity_mb = 2048\n",
    "\n",
    "# Calculate leftover storage in MB\n",
    "leftover_storage_mb = device_capacity_mb - total_storage_mb #replace `None` with your code\n",
    "print(f\"Storage left after storing all images: {leftover_storage_mb:.2f} MB\")\n"
   ]
  },
  {
   "cell_type": "code",
   "execution_count": null,
   "metadata": {},
   "outputs": [],
   "source": []
  }
 ],
 "metadata": {
  "kernelspec": {
   "display_name": "Python 3 (ipykernel)",
   "language": "python",
   "name": "python3"
  },
  "language_info": {
   "codemirror_mode": {
    "name": "ipython",
    "version": 3
   },
   "file_extension": ".py",
   "mimetype": "text/x-python",
   "name": "python",
   "nbconvert_exporter": "python",
   "pygments_lexer": "ipython3",
   "version": "3.10.13"
  }
 },
 "nbformat": 4,
 "nbformat_minor": 2
}
