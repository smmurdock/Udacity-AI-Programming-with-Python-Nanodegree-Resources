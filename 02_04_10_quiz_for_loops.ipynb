{
 "cells": [
  {
   "cell_type": "markdown",
   "metadata": {},
   "source": [
    "## Exercise 1: Create Model Identifiers\n",
    "\n",
    "In this exercise, you'll write a loop that iterates over a list of model names to create a list of model identifiers. To create an identifier for each model, make everything lowercase and replace spaces with underscores.\n",
    "\n",
    "### Problem Statement\n",
    "\n",
    "Given a list of model names, create a list of model identifiers by converting each name to lowercase and replacing spaces with underscores.\n",
    "\n",
    "**Example Input**:\n",
    "```python\n",
    "model_names = [\"Logistic Regression\", \"Decision Tree\", \"Random Forest\", \"Support Vector Machine\"]\n",
    "```\n",
    "\n",
    "**Example Output**:\n",
    "```python\n",
    "[\"logistic_regression\", \"decision_tree\", \"random_forest\", \"support_vector_machine\"]\n",
    "```"
   ]
  },
  {
   "cell_type": "code",
   "execution_count": 1,
   "metadata": {},
   "outputs": [
    {
     "name": "stdout",
     "output_type": "stream",
     "text": [
      "Nice work!\n"
     ]
    }
   ],
   "source": [
    "model_names = [\"Logistic Regression\", \"Decision Tree\", \"Random Forest\", \"Support Vector Machine\"]\n",
    "model_identifiers = []\n",
    "\n",
    "# Write your for loop here\n",
    "for name in model_names:\n",
    "    model_identifiers.append(name.lower().replace(\" \", \"_\"))\n",
    "\n",
    "### Notebook grading\n",
    "if model_identifiers == [\"logistic_regression\", \"decision_tree\", \"random_forest\", \"support_vector_machine\"]:\n",
    "    print(\"Nice work!\")\n",
    "else:\n",
    "    print(\"Not quite! Did you append each new identifier to the list `model_identifiers`?\")"
   ]
  },
  {
   "cell_type": "markdown",
   "metadata": {},
   "source": [
    "## Exercise 2: Modify Model Identifiers with Range\n",
    "\n",
    "In this exercise, you'll write a loop that uses `range()` to iterate over the positions in `model_identifiers` to modify the list. Change each model name to be lowercase and replace spaces with underscores.\n",
    "\n",
    "### Problem Statement\n",
    "\n",
    "Given a list of model names, modify the list so that each model name is converted to lowercase and spaces are replaced with underscores.\n",
    "\n",
    "**Example Input**:\n",
    "```python\n",
    "model_identifiers = [\"Logistic Regression\", \"Decision Tree\", \"Random Forest\", \"Support Vector Machine\"]\n",
    "```\n",
    "\n",
    "**Example Output**:\n",
    "```python\n",
    "[\"logistic_regression\", \"decision_tree\", \"random_forest\", \"support_vector_machine\"]\n",
    "```"
   ]
  },
  {
   "cell_type": "code",
   "execution_count": 2,
   "metadata": {},
   "outputs": [
    {
     "name": "stdout",
     "output_type": "stream",
     "text": [
      "Nice work!\n"
     ]
    }
   ],
   "source": [
    "model_identifiers = [\"Logistic Regression\", \"Decision Tree\", \"Random Forest\", \"Support Vector Machine\"]\n",
    "\n",
    "# Write your for loop here\n",
    "for i in range(len(model_identifiers)):\n",
    "    model_identifiers[i] = model_identifiers[i].lower().replace(\" \", \"_\")\n",
    "\n",
    "### Notebook grading\n",
    "if model_identifiers == [\"logistic_regression\", \"decision_tree\", \"random_forest\", \"support_vector_machine\"]:\n",
    "    print(\"Nice work!\")\n",
    "else:\n",
    "    print(\"Not quite! Did you modify each element in the list `model_identifiers`?\")"
   ]
  },
  {
   "cell_type": "markdown",
   "metadata": {},
   "source": [
    "## Exercise 3: Prediction Tag Counter\n",
    "\n",
    "In this exercise, you'll write a loop that iterates over a list of strings, `predictions`, and counts how many of them are in the format of predictions (strings that start with \"Predicted:\").\n",
    "\n",
    "### Problem Statement\n",
    "\n",
    "Given a list of strings, count how many of them start with \"Predicted:\".\n",
    "\n",
    "**Example Input**:\n",
    "```python\n",
    "predictions = ['Predicted: 0.95', 'Actual: 0.90', 'Predicted: 0.85']\n",
    "```\n",
    "\n",
    "**Example Output**:\n",
    "```python\n",
    "count = 2\n",
    "```"
   ]
  },
  {
   "cell_type": "code",
   "execution_count": 3,
   "metadata": {},
   "outputs": [
    {
     "name": "stdout",
     "output_type": "stream",
     "text": [
      "Nice work!\n"
     ]
    }
   ],
   "source": [
    "predictions = ['Predicted: 0.95', 'Actual: 0.90', 'Predicted: 0.85']\n",
    "count = 0\n",
    "\n",
    "# Write your for loop here\n",
    "for prediction in predictions:\n",
    "    if prediction.startswith(\"Predicted:\"):\n",
    "        count += 1\n",
    "\n",
    "### Notebook grading\n",
    "if count == 2:\n",
    "    print(\"Nice work!\")\n",
    "else:\n",
    "    print(\"Not quite! Did you track the number of predictions with `count`?\")"
   ]
  },
  {
   "cell_type": "markdown",
   "metadata": {},
   "source": [
    "## Exercise 4: Create an HTML List of Model Metrics\n",
    "\n",
    "In this exercise, you'll write a loop that iterates over a list of model metrics and creates a single string, `html_str`, which is an HTML list.\n",
    "\n",
    "### Problem Statement\n",
    "\n",
    "Given a list of model metrics, create a single string that represents an HTML list.\n",
    "\n",
    "**Example Input**:\n",
    "```python\n",
    "metrics = ['Accuracy: 0.95', 'Precision: 0.92', 'Recall: 0.88']\n",
    "```\n",
    "\n",
    "**Example Output**:\n",
    "```\n",
    "<ul>\n",
    "<li>Accuracy: 0.95</li>\n",
    "<li>Precision: 0.92</li>\n",
    "<li>Recall: 0.88</li>\n",
    "</ul>\n",
    "```\n",
    "\n"
   ]
  },
  {
   "cell_type": "code",
   "execution_count": 4,
   "metadata": {},
   "outputs": [
    {
     "name": "stdout",
     "output_type": "stream",
     "text": [
      "<ul>\n",
      "<li>Accuracy: 0.95</li>\n",
      "<li>Precision: 0.92</li>\n",
      "<li>Recall: 0.88</li>\n",
      "</ul>\n"
     ]
    }
   ],
   "source": [
    "metrics = ['Accuracy: 0.95', 'Precision: 0.92', 'Recall: 0.88']\n",
    "html_str = \"<ul>\\n\"\n",
    "\n",
    "# Write your code here\n",
    "for metric in metrics:\n",
    "    html_str += f\"<li>{metric}</li>\\n\"\n",
    "html_str += \"</ul>\"\n",
    "\n",
    "# Print the resulting HTML string\n",
    "print(html_str)"
   ]
  },
  {
   "cell_type": "code",
   "execution_count": null,
   "metadata": {},
   "outputs": [],
   "source": []
  }
 ],
 "metadata": {
  "kernelspec": {
   "display_name": "Python 3 (ipykernel)",
   "language": "python",
   "name": "python3"
  },
  "language_info": {
   "codemirror_mode": {
    "name": "ipython",
    "version": 3
   },
   "file_extension": ".py",
   "mimetype": "text/x-python",
   "name": "python",
   "nbconvert_exporter": "python",
   "pygments_lexer": "ipython3",
   "version": "3.10.13"
  }
 },
 "nbformat": 4,
 "nbformat_minor": 2
}
