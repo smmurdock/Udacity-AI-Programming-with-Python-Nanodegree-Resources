{
 "cells": [
  {
   "cell_type": "markdown",
   "metadata": {},
   "source": [
    "## Quiz: Valid Dictionary for AI Model Architectures\n",
    "\n",
    "In this exercise, you will correct an invalid dictionary that maps AI model researchers to their research topics. In Python, dictionary keys must be immutable types, such as strings or tuples. Lists, being mutable, cannot be used as dictionary keys.\n",
    "\n",
    "Here is the invalid dictionary provided:"
   ]
  },
  {
   "cell_type": "code",
   "execution_count": 1,
   "metadata": {},
   "outputs": [
    {
     "ename": "TypeError",
     "evalue": "unhashable type: 'list'",
     "output_type": "error",
     "traceback": [
      "\u001b[0;31m---------------------------------------------------------------------------\u001b[0m",
      "\u001b[0;31mTypeError\u001b[0m                                 Traceback (most recent call last)",
      "Cell \u001b[0;32mIn[1], line 2\u001b[0m\n\u001b[1;32m      1\u001b[0m \u001b[38;5;66;03m# invalid dictionary - this should break\u001b[39;00m\n\u001b[0;32m----> 2\u001b[0m research_topics \u001b[38;5;241m=\u001b[39m {\n\u001b[1;32m      3\u001b[0m     [\u001b[38;5;124m'\u001b[39m\u001b[38;5;124mAlexNet\u001b[39m\u001b[38;5;124m'\u001b[39m, \u001b[38;5;124m'\u001b[39m\u001b[38;5;124mConvolutional Neural Network\u001b[39m\u001b[38;5;124m'\u001b[39m]: \u001b[38;5;124m'\u001b[39m\u001b[38;5;124mImage Classification\u001b[39m\u001b[38;5;124m'\u001b[39m,\n\u001b[1;32m      4\u001b[0m     [\u001b[38;5;124m'\u001b[39m\u001b[38;5;124mVGG\u001b[39m\u001b[38;5;124m'\u001b[39m, \u001b[38;5;124m'\u001b[39m\u001b[38;5;124mVisual Geometry Group\u001b[39m\u001b[38;5;124m'\u001b[39m]: \u001b[38;5;124m'\u001b[39m\u001b[38;5;124mDeep Learning\u001b[39m\u001b[38;5;124m'\u001b[39m,\n\u001b[1;32m      5\u001b[0m     [\u001b[38;5;124m'\u001b[39m\u001b[38;5;124mResNet\u001b[39m\u001b[38;5;124m'\u001b[39m, \u001b[38;5;124m'\u001b[39m\u001b[38;5;124mResidual Networks\u001b[39m\u001b[38;5;124m'\u001b[39m]: \u001b[38;5;124m'\u001b[39m\u001b[38;5;124mNetwork Architecture\u001b[39m\u001b[38;5;124m'\u001b[39m\n\u001b[1;32m      6\u001b[0m }\n",
      "\u001b[0;31mTypeError\u001b[0m: unhashable type: 'list'"
     ]
    }
   ],
   "source": [
    "# invalid dictionary - this should break\n",
    "research_topics = {\n",
    "    ['AlexNet', 'Convolutional Neural Network']: 'Image Classification',\n",
    "    ['VGG', 'Visual Geometry Group']: 'Deep Learning',\n",
    "    ['ResNet', 'Residual Networks']: 'Network Architecture'\n",
    "}\n"
   ]
  },
  {
   "cell_type": "code",
   "execution_count": 2,
   "metadata": {},
   "outputs": [
    {
     "name": "stdout",
     "output_type": "stream",
     "text": [
      "{('AlexNet', 'Convolutional Neural Network'): 'Image Classification', ('VGG', 'Visual Geometry Group'): 'Deep Learning', ('ResNet', 'Residual Networks'): 'Network Architecture'}\n"
     ]
    }
   ],
   "source": [
    "# corrected dictionary using tuples as keys\n",
    "research_topics = {\n",
    "    ('AlexNet', 'Convolutional Neural Network'): 'Image Classification',\n",
    "    ('VGG', 'Visual Geometry Group'): 'Deep Learning',\n",
    "    ('ResNet', 'Residual Networks'): 'Network Architecture'\n",
    "}\n",
    "\n",
    "# Verify the corrected dictionary\n",
    "print(research_topics)\n"
   ]
  },
  {
   "cell_type": "markdown",
   "metadata": {},
   "source": [
    "### Explanation:\n",
    "\n",
    "* In the invalid dictionary, lists are used as keys, which causes an error because lists are mutable and cannot be used as dictionary keys.\n",
    "* The corrected dictionary uses tuples instead of lists for the keys. Tuples are immutable and can be used as dictionary keys."
   ]
  },
  {
   "cell_type": "code",
   "execution_count": null,
   "metadata": {},
   "outputs": [],
   "source": []
  }
 ],
 "metadata": {
  "kernelspec": {
   "display_name": "Python 3 (ipykernel)",
   "language": "python",
   "name": "python3"
  },
  "language_info": {
   "codemirror_mode": {
    "name": "ipython",
    "version": 3
   },
   "file_extension": ".py",
   "mimetype": "text/x-python",
   "name": "python",
   "nbconvert_exporter": "python",
   "pygments_lexer": "ipython3",
   "version": "3.10.13"
  }
 },
 "nbformat": 4,
 "nbformat_minor": 2
}
