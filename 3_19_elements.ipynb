{
 "cells": [
  {
   "cell_type": "markdown",
   "metadata": {},
   "source": [
    "## Lightweight Models in Deep Learning\n",
    "\n",
    "**Lightweight models** are deep learning models designed to be efficient in terms of memory usage, computational cost, and power consumption. These models are particularly useful for deployment on devices with limited resources, such as mobile phones, embedded systems, and edge devices. The primary goals of lightweight models are to reduce the number of parameters and operations required for inference while maintaining a high level of accuracy.\n",
    "\n",
    "Lightweight models play a crucial role in making AI accessible and practical for a wide range of applications, especially in scenarios where computational resources are limited.\n",
    "\n",
    "Here are some key characteristics and benefits of lightweight models:\n",
    "\n",
    "1. **Reduced Parameters and Computations:**\n",
    "   - Lightweight models have fewer parameters compared to traditional deep learning models. This reduction is achieved through techniques like depthwise separable convolutions and pruning.\n",
    "   - Fewer parameters lead to fewer computations, making the models faster and more efficient.\n",
    "\n",
    "2. **Lower Memory Footprint:**\n",
    "   - These models require less memory for storing parameters and intermediate feature maps, making them suitable for deployment on devices with limited RAM.\n",
    "\n",
    "3. **Energy Efficiency:**\n",
    "   - Lightweight models consume less power, which is crucial for battery-powered devices like smartphones and IoT devices.\n",
    "\n",
    "4. **Faster Inference:**\n",
    "   - Due to reduced complexity, lightweight models can perform inference faster, enabling real-time applications such as augmented reality, real-time video analysis, and on-device AI.\n",
    "\n",
    "### Examples of Lightweight Models\n",
    "\n",
    "#### MobileNet\n",
    "**MobileNet** is a family of lightweight deep learning models developed by Google. MobileNet models use depthwise separable convolutions to reduce the number of parameters and computational cost. This makes them suitable for real-time applications on devices with limited resources. MobileNet architectures include versions like MobileNetV1, V2, and V3, each providing improvements in accuracy and efficiency.\n",
    "\n",
    "#### SqueezeNet\n",
    "**SqueezeNet** is another lightweight model designed to achieve AlexNet-level accuracy with significantly fewer parameters. It introduces \"fire modules,\" which consist of squeeze layers (with 1x1 filters) and expand layers (with both 1x1 and 3x3 filters). SqueezeNet is highly efficient, making it suitable for deployment on devices with limited computational resources.\n",
    "\n",
    "#### EfficientNet\n",
    "**EfficientNet** is a family of convolutional neural network (CNN) architectures and scaling methods developed by Google. EfficientNet optimizes both the network architecture and scaling methods by using a compound scaling method that uniformly scales the depth, width, and resolution of the network. This approach achieves high performance with fewer parameters and lower computational cost compared to traditional models.\n",
    "\n",
    "---\n"
   ]
  },
  {
   "cell_type": "markdown",
   "metadata": {},
   "source": [
    "## Quiz: Adding Properties to Nested Dictionaries for Image Classification Models\n",
    "\n",
    "In this exercise, you will work with nested dictionaries. Add another entry, `is_lightweight`, to each dictionary in the `models` dictionary. After inserting the new entries, you should be able to perform these lookups:\n",
    "\n",
    "```python\n",
    ">>> print(models['ResNet']['is_lightweight'])\n",
    "False\n",
    ">>> print(models['MobileNet']['is_lightweight'])\n",
    "True\n",
    "```\n",
    "\n",
    "Here is the initial `models` dictionary:"
   ]
  },
  {
   "cell_type": "code",
   "execution_count": 4,
   "metadata": {},
   "outputs": [
    {
     "name": "stdout",
     "output_type": "stream",
     "text": [
      "Your code passes all of our tests, nice work!\n"
     ]
    }
   ],
   "source": [
    "models = {\n",
    "    'ResNet': {'layers': 50, 'accuracy': 0.91, 'type': 'CNN'},\n",
    "    'MobileNet': {'layers': 28, 'accuracy': 0.89, 'type': 'CNN'}\n",
    "}\n",
    "\n",
    "# TODO: Add an 'is_lightweight' entry to the ResNet and MobileNet dictionaries\n",
    "# hint: MobileNet is a lightweight model, ResNet isn't\n",
    "models['ResNet']['is_lightweight'] = False\n",
    "models['MobileNet']['is_lightweight'] = True\n",
    "\n",
    "### Notebook grading\n",
    "explanation_str = '''Your code produced the wrong result. Looks like you did not add the 'is_lightweight' property properly for {}.'''\n",
    "if not('is_lightweight' in models['ResNet'].keys()) or models['ResNet']['is_lightweight'] != False:\n",
    "    print(explanation_str.format(\"'ResNet'\"))\n",
    "elif not('is_lightweight' in models['MobileNet'].keys()) or models['MobileNet']['is_lightweight'] != True:\n",
    "    print(explanation_str.format(\"'MobileNet'\"))\n",
    "else:\n",
    "    print(\"\"\"Your code passes all of our tests, nice work!\"\"\")"
   ]
  },
  {
   "cell_type": "code",
   "execution_count": null,
   "metadata": {},
   "outputs": [],
   "source": []
  }
 ],
 "metadata": {
  "kernelspec": {
   "display_name": "Python 3 (ipykernel)",
   "language": "python",
   "name": "python3"
  },
  "language_info": {
   "codemirror_mode": {
    "name": "ipython",
    "version": 3
   },
   "file_extension": ".py",
   "mimetype": "text/x-python",
   "name": "python",
   "nbconvert_exporter": "python",
   "pygments_lexer": "ipython3",
   "version": "3.10.13"
  }
 },
 "nbformat": 4,
 "nbformat_minor": 2
}
