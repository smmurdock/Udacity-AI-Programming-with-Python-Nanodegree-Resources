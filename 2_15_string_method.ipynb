{
 "cells": [
  {
   "cell_type": "markdown",
   "metadata": {},
   "source": [
    "## Quiz 1: String Method Playground\n",
    "### Scenario:\n",
    "You are working on an NLP project and need to preprocess some text data. Explore different string methods and see how they can be used to manipulate text data.\n",
    "\n",
    "### Task:\n",
    "Browse the complete list of string methods at Python String Methods and try them out in the cell below.\n",
    "\n",
    "Link:\n",
    "https://docs.python.org/3/library/stdtypes.html#string-methods"
   ]
  },
  {
   "cell_type": "code",
   "execution_count": 2,
   "metadata": {},
   "outputs": [
    {
     "name": "stdout",
     "output_type": "stream",
     "text": [
      "Lowercase: hello, world! this is a sample text for nlp tasks.\n",
      "Replaced text: Hello, Universe! This is a sample text for NLP tasks.\n",
      "Words: ['Hello,', 'World!', 'This', 'is', 'a', 'sample', 'text', 'for', 'NLP', 'tasks.']\n"
     ]
    }
   ],
   "source": [
    "## String method playground\n",
    "\n",
    "# Example usage of some string methods\n",
    "sample_text = \"Hello, World! This is a sample text for NLP tasks.\"\n",
    "\n",
    "# Convert the text to lowercase\n",
    "lower_text = sample_text.lower()\n",
    "print(\"Lowercase:\", lower_text)\n",
    "\n",
    "# Replace 'World' with 'Universe'\n",
    "replaced_text = sample_text.replace(\"World\", \"Universe\")\n",
    "print(\"Replaced text:\", replaced_text)\n",
    "\n",
    "# Split the text into words\n",
    "words = sample_text.split()\n",
    "print(\"Words:\", words)\n",
    "\n",
    "# Try out more string methods from the Python documentation link provided\n"
   ]
  },
  {
   "cell_type": "markdown",
   "metadata": {},
   "source": [
    "## Quiz 2: Formatting Text for NLP\n",
    "### Scenario:\n",
    "You are preparing text data for an NLP task and need to format a sentence with specific values. This is useful for constructing training data or generating output text.\n",
    "\n",
    "### Task:\n",
    "Write two lines of code to assign values to two variables. Then, use the format() function to print out a sentence that includes the values of both variables."
   ]
  },
  {
   "cell_type": "code",
   "execution_count": 4,
   "metadata": {},
   "outputs": [
    {
     "name": "stdout",
     "output_type": "stream",
     "text": [
      "The BERT model achieved an accuracy of 92.5% on the test set.\n"
     ]
    }
   ],
   "source": [
    "# Write two lines of code below, each assigning a value to a variable\n",
    "model_name = \"BERT\"\n",
    "accuracy = 92.5\n",
    "\n",
    "# Now write a print statement using .format() to print out a sentence and the values of both of the variables\n",
    "print(\"The {} model achieved an accuracy of {}% on the test set.\".format(model_name, accuracy))"
   ]
  },
  {
   "cell_type": "markdown",
   "metadata": {},
   "source": [
    "**About BERT**\n",
    "\n",
    "BERT (Bidirectional Encoder Representations from Transformers) is a state-of-the-art NLP model developed by Google. It is designed to understand the context of words in a sentence by looking at both the left and right sides of the word. BERT has significantly improved the performance of NLP tasks such as text classification, named entity recognition, and question answering."
   ]
  },
  {
   "cell_type": "code",
   "execution_count": null,
   "metadata": {},
   "outputs": [],
   "source": []
  }
 ],
 "metadata": {
  "kernelspec": {
   "display_name": "Python 3 (ipykernel)",
   "language": "python",
   "name": "python3"
  },
  "language_info": {
   "codemirror_mode": {
    "name": "ipython",
    "version": 3
   },
   "file_extension": ".py",
   "mimetype": "text/x-python",
   "name": "python",
   "nbconvert_exporter": "python",
   "pygments_lexer": "ipython3",
   "version": "3.10.13"
  }
 },
 "nbformat": 4,
 "nbformat_minor": 2
}
