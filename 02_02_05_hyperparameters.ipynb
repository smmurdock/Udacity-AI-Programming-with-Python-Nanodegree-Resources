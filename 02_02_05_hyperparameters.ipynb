{
 "cells": [
  {
   "cell_type": "markdown",
   "id": "952bf103",
   "metadata": {},
   "source": [
    "## Understanding Hyperparameters in Machine Learning\n",
    "Hyperparameters are settings or configurations that you set before the training process begins, which control the behavior and performance of machine learning models. Unlike model parameters, which are learned from the data during training, hyperparameters are predefined and must be set manually. They play a crucial role in model performance and can significantly impact the results.\n",
    "\n",
    "### Common Hyperparameters:\n",
    "1. Learning Rate: Controls how much to change the model in response to the estimated error each time the model weights are updated.\n",
    "2. Batch Size: Determines the number of training samples used in one iteration.\n",
    "3. Number of Epochs: Specifies how many times the learning algorithm will work through the entire training dataset.\n",
    "4. Regularization Parameters: Help prevent overfitting by adding a penalty to the loss function.\n",
    "5. Momentum: Accelerates the gradient vectors in the right directions, leading to faster converging.\n",
    "\n",
    "### Importance of Hyperparameters:\n",
    "Setting the right hyperparameters is essential for model training because they directly influence the training process and the performance of the model. Proper tuning of hyperparameters can lead to better model accuracy, faster convergence, and overall improved results."
   ]
  },
  {
   "cell_type": "markdown",
   "id": "a7340753",
   "metadata": {},
   "source": [
    "## Quiz: Adjusting AI Model Parameters\n",
    "### Scenario:\n",
    "You are working with an AI model and need to adjust various parameters and metrics during the training process. Use the assignment operators to modify these values based on the given instructions.\n",
    "\n",
    "### Task:\n",
    "Follow the instructions in the comments to modify the variables. After each comment, write a line of code that implements the instruction."
   ]
  },
  {
   "cell_type": "code",
   "execution_count": 8,
   "id": "dca6d17c",
   "metadata": {},
   "outputs": [
    {
     "name": "stdout",
     "output_type": "stream",
     "text": [
      "Nice job! You can use the multiplication assignment operator like this: learning_rate *= 0.9\n"
     ]
    }
   ],
   "source": [
    "# The initial learning rate for the model\n",
    "learning_rate = 0.01\n",
    "# The initial training loss of the model\n",
    "training_loss = 0.8\n",
    "\n",
    "# Use the multiplication assignment operator to decrease \n",
    "# the learning_rate variable by 10% to account for better stability\n",
    "learning_rate *= 0.9\n",
    "\n",
    "### Notebook grading\n",
    "if learning_rate == 0.01 * 0.9:\n",
    "    print(\"Nice job! You can use the multiplication assignment operator like this: learning_rate *= 0.9\")\n",
    "elif learning_rate == 0.01 * 1.1:\n",
    "    print(\"Sorry! learning_rate is too high. It looks like you increased the learning rate by 10% instead of decreasing it. Try again\")        \n",
    "else:\n",
    "    print(\"Sorry! learning_rate is incorrect. Try again and make sure to use the *= assignment operator\")"
   ]
  },
  {
   "cell_type": "code",
   "execution_count": 9,
   "id": "90487d66",
   "metadata": {},
   "outputs": [
    {
     "name": "stdout",
     "output_type": "stream",
     "text": [
      "Nice job! You can use the addition assignment operator like this: training_loss += 0.02\n"
     ]
    }
   ],
   "source": [
    "# Use the addition assignment operator to add \n",
    "# a small value (0.02) to the training_loss variable due to noisy data\n",
    "training_loss += 0.02\n",
    "\n",
    "### Notebook grading\n",
    "if training_loss == 0.8 + 0.02:\n",
    "    print(\"Nice job! You can use the addition assignment operator like this: training_loss += 0.02\")\n",
    "elif training_loss == 0.8:\n",
    "    print(\"Sorry! training_loss is too low. Did you add the noise? Try again\")        \n",
    "else:\n",
    "    print(\"Sorry! training_loss is incorrect. Try again and make sure to use the += assignment operator\")"
   ]
  },
  {
   "cell_type": "code",
   "execution_count": 10,
   "id": "42b274ae",
   "metadata": {},
   "outputs": [
    {
     "name": "stdout",
     "output_type": "stream",
     "text": [
      "Nice job! You can use the multiplication assignment operator like this: training_loss *= 1.05\n"
     ]
    }
   ],
   "source": [
    "# Use the multiplication assignment operator to increase \n",
    "# training_loss by 5% to account for overfitting\n",
    "training_loss *= 1.05\n",
    "\n",
    "### Notebook grading\n",
    "if training_loss == (0.8 + 0.02) * 1.05:\n",
    "    print(\"Nice job! You can use the multiplication assignment operator like this: training_loss *= 1.05\")\n",
    "elif training_loss == 0.8 + 0.02:\n",
    "    print(\"Sorry! training_loss is too low. Did you account for overfitting? Try again\")        \n",
    "else:\n",
    "    print(\"Sorry! training_loss is incorrect. Try again and make sure to use the *= assignment operator\")"
   ]
  },
  {
   "cell_type": "code",
   "execution_count": 11,
   "id": "8a098681",
   "metadata": {},
   "outputs": [
    {
     "name": "stdout",
     "output_type": "stream",
     "text": [
      "Nice job! You can use the multiplication assignment operator like this: training_loss *= 0.95\n"
     ]
    }
   ],
   "source": [
    "# Use the multiplication assignment operator to decrease \n",
    "# training_loss by 5% to account for regularization\n",
    "training_loss *= 0.95\n",
    "\n",
    "### Notebook grading\n",
    "if training_loss == (0.8 + 0.02) * 1.05 * 0.95:\n",
    "    print(\"Nice job! You can use the multiplication assignment operator like this: training_loss *= 0.95\")\n",
    "elif training_loss == (0.8 + 0.02) * 1.05:\n",
    "    print(\"Sorry! training_loss is too high. Did you account for regularization? Try again\")        \n",
    "else:\n",
    "    print(\"Sorry! training_loss is incorrect. Try again and make sure to use the *= assignment operator\")"
   ]
  },
  {
   "cell_type": "code",
   "execution_count": 12,
   "id": "8a7f84c1",
   "metadata": {},
   "outputs": [
    {
     "name": "stdout",
     "output_type": "stream",
     "text": [
      "Nice job! You can use the subtraction assignment operator like this: training_loss -= 0.05\n"
     ]
    }
   ],
   "source": [
    "# Use the subtraction assignment operator to subtract \n",
    "# a small value (0.05) from training_loss to account \n",
    "# for improved generalization due to more training data.\n",
    "training_loss -= 0.05\n",
    "\n",
    "### Notebook grading\n",
    "if training_loss == (0.8 + 0.02) * 1.05 * 0.95 - 0.05:\n",
    "    print(\"Nice job! You can use the subtraction assignment operator like this: training_loss -= 0.05\")\n",
    "elif training_loss == (0.8 + 0.02) * 1.05 * 0.95:\n",
    "    print(\"Sorry! training_loss is too high. Did you account for the improved generalization? Try again\")        \n",
    "else:\n",
    "    print(\"Sorry! training_loss is incorrect. Try again and make sure to use the -= assignment operator\")"
   ]
  },
  {
   "cell_type": "markdown",
   "id": "0f81b5fc",
   "metadata": {},
   "source": [
    "### Understanding Hyperparameters: Learning Rate\n",
    "Learning Rate is a crucial hyperparameter in machine learning models that determines the step size at each iteration while moving towards a minimum of the loss function. It is common to use [scientific notation](https://en.wikipedia.org/wiki/Scientific_notation) for learning rates because they are often very small values. For example, a learning rate of `0.001` can be represented as `1𝑒−3`."
   ]
  },
  {
   "cell_type": "code",
   "execution_count": 13,
   "id": "4972e518",
   "metadata": {},
   "outputs": [
    {
     "name": "stdout",
     "output_type": "stream",
     "text": [
      "Updated learning rate: 0.0009000000000000001\n"
     ]
    }
   ],
   "source": [
    "# Initial learning rate\n",
    "learning_rate = 1e-3  # Equivalent to 0.001\n",
    "\n",
    "# Update the learning rate by decreasing it by 10%\n",
    "learning_rate *= 0.9\n",
    "\n",
    "print(f\"Updated learning rate: {learning_rate}\")"
   ]
  },
  {
   "cell_type": "code",
   "execution_count": null,
   "id": "c3504580",
   "metadata": {},
   "outputs": [],
   "source": []
  }
 ],
 "metadata": {
  "kernelspec": {
   "display_name": "Python 3 (ipykernel)",
   "language": "python",
   "name": "python3"
  },
  "language_info": {
   "codemirror_mode": {
    "name": "ipython",
    "version": 3
   },
   "file_extension": ".py",
   "mimetype": "text/x-python",
   "name": "python",
   "nbconvert_exporter": "python",
   "pygments_lexer": "ipython3",
   "version": "3.10.13"
  }
 },
 "nbformat": 4,
 "nbformat_minor": 5
}
