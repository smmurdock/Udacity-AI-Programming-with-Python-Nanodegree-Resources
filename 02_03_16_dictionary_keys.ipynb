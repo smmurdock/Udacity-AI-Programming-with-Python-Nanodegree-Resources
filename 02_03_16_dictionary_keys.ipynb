{
 "cells": [
  {
   "cell_type": "code",
   "execution_count": 1,
   "metadata": {},
   "outputs": [
    {
     "ename": "TypeError",
     "evalue": "unhashable type: 'list'",
     "output_type": "error",
     "traceback": [
      "\u001b[0;31m---------------------------------------------------------------------------\u001b[0m",
      "\u001b[0;31mTypeError\u001b[0m                                 Traceback (most recent call last)",
      "Cell \u001b[0;32mIn[1], line 2\u001b[0m\n\u001b[1;32m      1\u001b[0m \u001b[38;5;66;03m# invalid dictionary - this should break\u001b[39;00m\n\u001b[0;32m----> 2\u001b[0m room_numbers \u001b[38;5;241m=\u001b[39m {\n\u001b[1;32m      3\u001b[0m     [\u001b[38;5;124m'\u001b[39m\u001b[38;5;124mFreddie\u001b[39m\u001b[38;5;124m'\u001b[39m, \u001b[38;5;124m'\u001b[39m\u001b[38;5;124mJen\u001b[39m\u001b[38;5;124m'\u001b[39m]: \u001b[38;5;241m403\u001b[39m,\n\u001b[1;32m      4\u001b[0m     [\u001b[38;5;124m'\u001b[39m\u001b[38;5;124mNed\u001b[39m\u001b[38;5;124m'\u001b[39m, \u001b[38;5;124m'\u001b[39m\u001b[38;5;124mKeith\u001b[39m\u001b[38;5;124m'\u001b[39m]: \u001b[38;5;241m391\u001b[39m,\n\u001b[1;32m      5\u001b[0m     [\u001b[38;5;124m'\u001b[39m\u001b[38;5;124mKristin\u001b[39m\u001b[38;5;124m'\u001b[39m, \u001b[38;5;124m'\u001b[39m\u001b[38;5;124mJazzmyne\u001b[39m\u001b[38;5;124m'\u001b[39m]: \u001b[38;5;241m411\u001b[39m,\n\u001b[1;32m      6\u001b[0m     [\u001b[38;5;124m'\u001b[39m\u001b[38;5;124mEugene\u001b[39m\u001b[38;5;124m'\u001b[39m, \u001b[38;5;124m'\u001b[39m\u001b[38;5;124mZach\u001b[39m\u001b[38;5;124m'\u001b[39m]: \u001b[38;5;241m395\u001b[39m\n\u001b[1;32m      7\u001b[0m }\n",
      "\u001b[0;31mTypeError\u001b[0m: unhashable type: 'list'"
     ]
    }
   ],
   "source": [
    "# invalid dictionary - this should break\n",
    "room_numbers = {\n",
    "    ['Freddie', 'Jen']: 403,\n",
    "    ['Ned', 'Keith']: 391,\n",
    "    ['Kristin', 'Jazzmyne']: 411,\n",
    "    ['Eugene', 'Zach']: 395\n",
    "}"
   ]
  },
  {
   "cell_type": "code",
   "execution_count": 2,
   "metadata": {},
   "outputs": [
    {
     "name": "stdout",
     "output_type": "stream",
     "text": [
      "{403: ['Freddie', 'Jen'], 391: ['Ned', 'Keith'], 411: ['Kristin', 'Jazzmyne'], 395: ['Eugene', 'Zach']}\n"
     ]
    }
   ],
   "source": [
    "# valid dictionary - answer\n",
    "room_numbers = {\n",
    "    403: ['Freddie', 'Jen'],\n",
    "    391: ['Ned', 'Keith'],\n",
    "    411: ['Kristin', 'Jazzmyne'],\n",
    "    395: ['Eugene', 'Zach']\n",
    "}\n",
    "print(room_numbers)"
   ]
  },
  {
   "cell_type": "code",
   "execution_count": null,
   "metadata": {},
   "outputs": [],
   "source": []
  }
 ],
 "metadata": {
  "kernelspec": {
   "display_name": "Python 3 (ipykernel)",
   "language": "python",
   "name": "python3"
  },
  "language_info": {
   "codemirror_mode": {
    "name": "ipython",
    "version": 3
   },
   "file_extension": ".py",
   "mimetype": "text/x-python",
   "name": "python",
   "nbconvert_exporter": "python",
   "pygments_lexer": "ipython3",
   "version": "3.10.13"
  }
 },
 "nbformat": 4,
 "nbformat_minor": 2
}
