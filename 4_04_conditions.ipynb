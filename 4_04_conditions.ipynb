{
 "cells": [
  {
   "cell_type": "code",
   "execution_count": 1,
   "metadata": {},
   "outputs": [
    {
     "name": "stdout",
     "output_type": "stream",
     "text": [
      "Model performance: Good.\n",
      "Nice work!\n"
     ]
    }
   ],
   "source": [
    "accuracy = 0.85  # use this input to make your submission\n",
    "\n",
    "# write your if statement here\n",
    "if 0.0 <= accuracy <= 0.5:\n",
    "    result = \"Model performance: Poor.\"\n",
    "elif 0.51 <= accuracy <= 0.75: \n",
    "    result = \"Model performance: Average.\"\n",
    "elif 0.76 <= accuracy <= 0.90:\n",
    "    result = \"Model performance: Good.\"\n",
    "elif 0.91 <= accuracy <= 1.0:\n",
    "    result = \"Model performance: Excellent.\"\n",
    "else:\n",
    "    result = \"Invalid accuracy score.\"\n",
    "\n",
    "\n",
    "# Check the result\n",
    "print(result)\n",
    "\n",
    "# Notebook grading\n",
    "if result == \"Model performance: Good.\":\n",
    "    print(\"Nice work!\")\n",
    "else:\n",
    "    print(\"Not quite! Are your result strings formatted correctly?\")"
   ]
  },
  {
   "cell_type": "code",
   "execution_count": null,
   "metadata": {},
   "outputs": [],
   "source": []
  }
 ],
 "metadata": {
  "kernelspec": {
   "display_name": "Python 3 (ipykernel)",
   "language": "python",
   "name": "python3"
  },
  "language_info": {
   "codemirror_mode": {
    "name": "ipython",
    "version": 3
   },
   "file_extension": ".py",
   "mimetype": "text/x-python",
   "name": "python",
   "nbconvert_exporter": "python",
   "pygments_lexer": "ipython3",
   "version": "3.10.13"
  }
 },
 "nbformat": 4,
 "nbformat_minor": 2
}
