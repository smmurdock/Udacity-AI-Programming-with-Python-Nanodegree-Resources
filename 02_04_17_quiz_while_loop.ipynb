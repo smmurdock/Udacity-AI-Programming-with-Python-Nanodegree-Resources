{
  "cells": [
    {
      "cell_type": "markdown",
      "metadata": {
        "id": "view-in-github",
        "colab_type": "text"
      },
      "source": [
        "<a href=\"https://colab.research.google.com/github/smmurdock/Udacity-AI-Programming-with-Python-Nanodegree-Resources/blob/main/02_04_17_quiz_while_loop.ipynb\" target=\"_parent\"><img src=\"https://colab.research.google.com/assets/colab-badge.svg\" alt=\"Open In Colab\"/></a>"
      ]
    },
    {
      "cell_type": "markdown",
      "metadata": {
        "id": "5QVmhU5J6tC6"
      },
      "source": [
        "## Exercise 1: Count Image Batches\n",
        "\n",
        "In this exercise, you'll simulate processing batches of images in a machine learning model. You'll start from a given number of images and process them in batches until all images are processed. Use `processed_images` as the variable that you'll change each time through the loop.\n",
        "\n",
        "**Example Input**:\n",
        "```python\n",
        "total_images = 100\n",
        "batch_size = 20\n",
        "```\n",
        "\n",
        "**Example Output**:\n",
        "```python\n",
        "processed_images = 100\n",
        "```"
      ]
    },
    {
      "cell_type": "code",
      "execution_count": 1,
      "metadata": {
        "colab": {
          "base_uri": "https://localhost:8080/"
        },
        "id": "9gKp9Hxk6tC8",
        "outputId": "009a082d-01fd-4412-9f7d-7c21dad6cc7f"
      },
      "outputs": [
        {
          "output_type": "stream",
          "name": "stdout",
          "text": [
            "Good job!\n"
          ]
        }
      ],
      "source": [
        "total_images = 100\n",
        "batch_size = 20\n",
        "\n",
        "processed_images = 0\n",
        "# TODO\n",
        "while processed_images < total_images:\n",
        "    processed_images += batch_size\n",
        "\n",
        "### Notebook grading\n",
        "def get_solution(total_images, batch_size):\n",
        "    processed_images = 0\n",
        "    while processed_images < total_images:\n",
        "        processed_images += batch_size\n",
        "    return processed_images\n",
        "\n",
        "correct = get_solution(total_images, batch_size)\n",
        "\n",
        "if processed_images == correct:\n",
        "    print(\"Good job!\")\n",
        "else:\n",
        "    print(\"Oops! It doesn't look like the expected answer.\")"
      ]
    },
    {
      "cell_type": "markdown",
      "metadata": {
        "id": "0oQR0-QC6tC9"
      },
      "source": [
        "## Exercise 2: Validate Batch Processing\n",
        "\n",
        "In this exercise, you'll validate that your batch processing function works correctly and handle the case where the number of images to process is less than the batch size.\n",
        "\n",
        "**Example Input**:\n",
        "```python\n",
        "total_images = 100\n",
        "batch_size = 20\n",
        "```\n",
        "\n",
        "**Example Output**:\n",
        "```python\n",
        "result = 100\n",
        "```\n",
        "\n",
        "**Example Input with total_images < batch_size**:\n",
        "```python\n",
        "total_images = 10\n",
        "batch_size = 20\n",
        "```\n",
        "\n",
        "**Example Output**:\n",
        "```python\n",
        "result = 10\n",
        "```"
      ]
    },
    {
      "cell_type": "code",
      "execution_count": 2,
      "metadata": {
        "colab": {
          "base_uri": "https://localhost:8080/"
        },
        "id": "ZMLqL4IU6tC-",
        "outputId": "5eefcfea-4331-482c-ea36-b2d869a64a9b"
      },
      "outputs": [
        {
          "output_type": "stream",
          "name": "stdout",
          "text": [
            "Good job!\n"
          ]
        }
      ],
      "source": [
        "total_images = 100\n",
        "batch_size = 20\n",
        "\n",
        "if total_images < batch_size:\n",
        "    result = total_images\n",
        "else:\n",
        "    processed_images = 0\n",
        "    # TODO\n",
        "    while processed_images < total_images:\n",
        "        processed_images += batch_size\n",
        "    result = processed_images\n",
        "\n",
        "### Notebook grading\n",
        "def get_solution(total_images, batch_size):\n",
        "    if total_images < batch_size:\n",
        "        return total_images\n",
        "    else:\n",
        "        processed_images = 0\n",
        "        while processed_images < total_images:\n",
        "            processed_images += batch_size\n",
        "        return processed_images\n",
        "\n",
        "correct_ans = get_solution(total_images, batch_size)\n",
        "\n",
        "if result == correct_ans:\n",
        "    print(\"Good job!\")\n",
        "else:\n",
        "    print(\"Oops! It doesn't look like the expected answer.\")"
      ]
    },
    {
      "cell_type": "markdown",
      "metadata": {
        "id": "h8PtC7pL6tC-"
      },
      "source": [
        "## Exercise 3: Find Nearest Batch Size\n",
        "\n",
        "In this exercise, you'll write a while loop that finds the largest batch size (a perfect square less than an integer `limit`) and stores it in a variable `nearest_batch`. A batch size is the product of an integer multiplied by itself, for example 36 is a perfect batch size because it equals 6*6.\n",
        "\n",
        "**Example Input**:\n",
        "```python\n",
        "limit = 50\n",
        "```\n",
        "\n",
        "**Example Output**:\n",
        "```python\n",
        "nearest_batch = 36\n",
        "```"
      ]
    },
    {
      "cell_type": "code",
      "execution_count": 3,
      "metadata": {
        "colab": {
          "base_uri": "https://localhost:8080/"
        },
        "id": "Ey9Xn3qn6tC-",
        "outputId": "86b1db71-7803-4a26-f41c-ccc9ffec0352"
      },
      "outputs": [
        {
          "output_type": "stream",
          "name": "stdout",
          "text": [
            "Good job!\n"
          ]
        }
      ],
      "source": [
        "limit = 50\n",
        "nearest_batch = 0\n",
        "current_value = 0\n",
        "\n",
        "# TODO\n",
        "while (current_value + 1)**2 < limit:\n",
        "    current_value += 1\n",
        "    nearest_batch = current_value**2\n",
        "\n",
        "### Notebook grading\n",
        "def get_solution(limit):\n",
        "    current_value = 0\n",
        "    while (current_value + 1)**2 < limit:\n",
        "        current_value += 1\n",
        "        nearest_batch = current_value**2\n",
        "    return nearest_batch\n",
        "\n",
        "correct_ans = get_solution(limit)\n",
        "\n",
        "if nearest_batch == correct_ans:\n",
        "    print(\"Good job!\")\n",
        "else:\n",
        "    print(\"Not quite. Did you assign your result to `nearest_batch`?\")"
      ]
    },
    {
      "cell_type": "code",
      "source": [],
      "metadata": {
        "id": "oeErjiKw7eZl"
      },
      "execution_count": null,
      "outputs": []
    }
  ],
  "metadata": {
    "kernelspec": {
      "display_name": "Python 3 (ipykernel)",
      "language": "python",
      "name": "python3"
    },
    "language_info": {
      "codemirror_mode": {
        "name": "ipython",
        "version": 3
      },
      "file_extension": ".py",
      "mimetype": "text/x-python",
      "name": "python",
      "nbconvert_exporter": "python",
      "pygments_lexer": "ipython3",
      "version": "3.10.13"
    },
    "colab": {
      "provenance": [],
      "include_colab_link": true
    }
  },
  "nbformat": 4,
  "nbformat_minor": 0
}