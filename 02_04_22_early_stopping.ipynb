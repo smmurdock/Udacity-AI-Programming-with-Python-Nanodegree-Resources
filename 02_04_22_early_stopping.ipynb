{
  "cells": [
    {
      "cell_type": "markdown",
      "metadata": {
        "id": "view-in-github",
        "colab_type": "text"
      },
      "source": [
        "<a href=\"https://colab.research.google.com/github/smmurdock/Udacity-AI-Programming-with-Python-Nanodegree-Resources/blob/main/02_04_22_early_stopping.ipynb\" target=\"_parent\"><img src=\"https://colab.research.google.com/assets/colab-badge.svg\" alt=\"Open In Colab\"/></a>"
      ]
    },
    {
      "cell_type": "markdown",
      "source": [
        "# Early Stopping\n",
        "\n",
        "In machine learning, one of the critical aspects of training a model is ensuring that it generalizes well to new, unseen data. Overfitting occurs when a model learns the training data too well, including its noise and outliers, which negatively impacts its performance on new data. To prevent overfitting, various techniques can be employed, and one such technique is **early stopping**.\n",
        "\n",
        "Early stopping is a method where the training process is halted when the model's performance on a validation dataset stops improving. By doing so, we avoid over-training the model, thereby maintaining its ability to generalize well. This exercise focuses on implementing early stopping during the training of a machine learning model by monitoring the validation loss over epochs.\n",
        "\n",
        "In this exercise, you will simulate the training process of a machine learning model. You will use epoch performances, specifically validation losses, to determine when to stop the training. You will implement two methods:\n",
        "\n",
        "1. **Immediate Stop:** The training stops immediately when the validation loss increases compared to the previous epoch.\n",
        "2. **Patience:** The training stops if the validation loss does not improve for a specified number of epochs, known as patience.\n",
        "\n",
        "By the end of this exercise, you will understand how to apply early stopping in a practical scenario, helping you enhance your model's performance by preventing overfitting. Let's dive into the details and start implementing these methods!"
      ],
      "metadata": {
        "id": "7P-CfeL2_1c1"
      }
    },
    {
      "cell_type": "markdown",
      "metadata": {
        "id": "I36motUT_oBl"
      },
      "source": [
        "## Problem Statement\n",
        "\n",
        "You are training a machine learning model, and you want to stop the training process if the validation loss does not improve for a certain number of epochs. You have a list of tuples where each tuple represents an epoch's performance, with the first element being the epoch number and the second element being the validation loss.\n",
        "\n",
        "**List of Epoch Performances:**\n",
        "```python\n",
        "epoch_performances = [(1, 0.5), (2, 0.45), (3, 0.47), (4, 0.44), (5, 0.43), (6, 0.42), (7, 0.44), (8, 0.41), (9, 0.42), (10, 0.43)]\n",
        "```\n",
        "\n",
        "You need to implement two methods to stop the training:\n",
        "\n",
        "1. **Method 1:** Stop the training immediately when the validation loss increases compared to the previous epoch.\n",
        "2. **Method 2:** Stop the training when the validation loss has not improved for a certain number of epochs (`patience`).\n",
        "\n",
        "### Instructions\n",
        "\n",
        "1. **Method 1: Immediate Stop**\n",
        "\n",
        "   Write a loop that iterates through the `epoch_performances` list and stops immediately when the validation loss increases compared to the previous epoch.\n",
        "\n",
        "\n",
        "2. **Method 2: Patience**\n",
        "\n",
        "   Write a loop that iterates through the `epoch_performances` list and stops when the validation loss has not improved for a specified number of epochs (`patience`).\n",
        "\n",
        "\n",
        "3. **Output:**\n",
        "\n",
        "   Both methods should output the number of epochs run and the reason for stopping.\n",
        "\n",
        "### Explanation\n",
        "\n",
        "- **Early Stopping:** A technique used to halt training when the model starts to overfit the training data.\n",
        "- **Validation Loss:** A measure of how well the model performs on a validation dataset.\n",
        "- **Patience:** The number of epochs to wait for an improvement in validation loss before stopping the training.\n",
        "\n",
        "These methods help to understand the importance of monitoring model performance and stopping the training process to avoid overfitting.\n"
      ]
    },
    {
      "cell_type": "code",
      "execution_count": 1,
      "metadata": {
        "id": "NDqC79w__oBp"
      },
      "outputs": [],
      "source": [
        "epoch_performances = [(1, 0.5), (2, 0.45), (3, 0.47), (4, 0.44), (5, 0.43), (6, 0.42), (7, 0.44), (8, 0.41), (9, 0.42), (10, 0.43)]"
      ]
    },
    {
      "cell_type": "markdown",
      "source": [
        "## Method 1: Immediate Stop"
      ],
      "metadata": {
        "id": "vI06qgU9ARV2"
      }
    },
    {
      "cell_type": "code",
      "execution_count": 2,
      "metadata": {
        "colab": {
          "base_uri": "https://localhost:8080/"
        },
        "id": "lSAinI0X_oBq",
        "outputId": "c52402ec-e695-4e9d-acaa-8305d7290733"
      },
      "outputs": [
        {
          "output_type": "stream",
          "name": "stdout",
          "text": [
            "METHOD 1: Immediate Stop\n",
            "Epoch 1 - Validation Loss: 0.5\n",
            "Epoch 2 - Validation Loss: 0.45\n",
            "Epoch 3 - Validation Loss: 0.47\n",
            "Stopping early at epoch 3 as validation loss increased.\n",
            "\n",
            "Total epochs ran: 2\n"
          ]
        }
      ],
      "source": [
        "print(\"METHOD 1: Immediate Stop\")\n",
        "best_loss = float('inf')\n",
        "epochs_ran = 0\n",
        "\n",
        "for epoch, val_loss in epoch_performances:\n",
        "    print(f\"Epoch {epoch} - Validation Loss: {val_loss}\")\n",
        "    if val_loss < best_loss:\n",
        "        best_loss = val_loss\n",
        "        epochs_ran += 1\n",
        "    else:\n",
        "        print(f\"Stopping early at epoch {epoch} as validation loss increased.\")\n",
        "        break\n",
        "\n",
        "print(f\"\\nTotal epochs ran: {epochs_ran}\")"
      ]
    },
    {
      "cell_type": "markdown",
      "source": [
        "## Method 2: Patience"
      ],
      "metadata": {
        "id": "b-7u2D1hAT5f"
      }
    },
    {
      "cell_type": "code",
      "execution_count": 4,
      "metadata": {
        "colab": {
          "base_uri": "https://localhost:8080/"
        },
        "id": "Zl0IWule_oBq",
        "outputId": "2392c6de-8f36-4320-8d01-6138fc0b3fcd"
      },
      "outputs": [
        {
          "output_type": "stream",
          "name": "stdout",
          "text": [
            "\n",
            "METHOD 2: Patience\n",
            "Epoch 1 - Validation Loss: 0.5\n",
            "Epoch 2 - Validation Loss: 0.45\n",
            "Epoch 3 - Validation Loss: 0.47\n",
            "Epoch 4 - Validation Loss: 0.44\n",
            "Epoch 5 - Validation Loss: 0.43\n",
            "Epoch 6 - Validation Loss: 0.42\n",
            "Epoch 7 - Validation Loss: 0.44\n",
            "Epoch 8 - Validation Loss: 0.41\n",
            "Epoch 9 - Validation Loss: 0.42\n",
            "Epoch 10 - Validation Loss: 0.43\n",
            "Stopping early at epoch 10 as validation loss did not improve for 2 epochs.\n",
            "\n",
            "Total epochs ran: 9\n"
          ]
        }
      ],
      "source": [
        "print(\"\\nMETHOD 2: Patience\")\n",
        "patience = 2\n",
        "best_loss = float('inf')\n",
        "epochs_ran = 0\n",
        "patience_counter = 0\n",
        "\n",
        "for epoch, val_loss in epoch_performances:\n",
        "    print(f\"Epoch {epoch} - Validation Loss: {val_loss}\")\n",
        "    if val_loss < best_loss:\n",
        "        best_loss = val_loss\n",
        "        patience_counter = 0\n",
        "        epochs_ran += 1\n",
        "    else:\n",
        "        patience_counter += 1\n",
        "        if patience_counter >= patience:\n",
        "            print(f\"Stopping early at epoch {epoch} as validation loss did not improve for {patience} epochs.\")\n",
        "            break\n",
        "        epochs_ran += 1\n",
        "\n",
        "print(f\"\\nTotal epochs ran: {epochs_ran}\")"
      ]
    }
  ],
  "metadata": {
    "kernelspec": {
      "display_name": "Python 3 (ipykernel)",
      "language": "python",
      "name": "python3"
    },
    "language_info": {
      "codemirror_mode": {
        "name": "ipython",
        "version": 3
      },
      "file_extension": ".py",
      "mimetype": "text/x-python",
      "name": "python",
      "nbconvert_exporter": "python",
      "pygments_lexer": "ipython3",
      "version": "3.10.13"
    },
    "colab": {
      "provenance": [],
      "include_colab_link": true
    }
  },
  "nbformat": 4,
  "nbformat_minor": 0
}