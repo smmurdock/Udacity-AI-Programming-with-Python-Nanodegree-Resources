{
 "cells": [
  {
   "cell_type": "markdown",
   "metadata": {
    "grader_id": "9cwyiluo4pn"
   },
   "source": [
    "## Quiz: Comparing Precision and Recall\n",
    "### Scenario:\n",
    "You are evaluating two machine learning models based on their performance metrics. Model 1 has 50 true positives, 10 false positives, and 5 false negatives. Model 2 has 45 true positives, 5 false positives, and 10 false negatives.\n",
    "\n",
    "### Tasks:\n",
    "\n",
    "1. Calculate the precision and recall for both models.\n",
    "2. Write code that gives a boolean value True if Model 1 has higher precision than Model 2, and False otherwise.\n",
    "3. Write code that gives a boolean value True if Model 1 has higher recall than Model 2, and False otherwise."
   ]
  },
  {
   "cell_type": "code",
   "execution_count": 1,
   "metadata": {},
   "outputs": [
    {
     "name": "stdout",
     "output_type": "stream",
     "text": [
      "Model 1 Precision: 0.83\n",
      "Model 1 Recall: 0.91\n",
      "Model 2 Precision: 0.90\n",
      "Model 2 Recall: 0.82\n",
      "Is Model 1 precision higher than Model 2? False\n",
      "Is Model 1 recall higher than Model 2? True\n"
     ]
    }
   ],
   "source": [
    "# Model 1 metrics\n",
    "model1_tp = 50\n",
    "model1_fp = 10\n",
    "model1_fn = 5\n",
    "\n",
    "# Model 2 metrics\n",
    "model2_tp = 45\n",
    "model2_fp = 5\n",
    "model2_fn = 10\n",
    "\n",
    "# Calculate precision and recall for Model 1\n",
    "model1_precision = model1_tp / (model1_tp + model1_fp)\n",
    "model1_recall = model1_tp / (model1_tp + model1_fn)\n",
    "\n",
    "# Calculate precision and recall for Model 2\n",
    "model2_precision = model2_tp / (model2_tp + model2_fp)\n",
    "model2_recall = model2_tp / (model2_tp + model2_fn)\n",
    "\n",
    "# Compare precision\n",
    "precision_comparison_result = model1_precision > model2_precision\n",
    "\n",
    "# Compare recall\n",
    "recall_comparison_result = model1_recall > model2_recall\n",
    "\n",
    "# Output the results\n",
    "print(f\"Model 1 Precision: {model1_precision:.2f}\")\n",
    "print(f\"Model 1 Recall: {model1_recall:.2f}\")\n",
    "print(f\"Model 2 Precision: {model2_precision:.2f}\")\n",
    "print(f\"Model 2 Recall: {model2_recall:.2f}\")\n",
    "print(f\"Is Model 1 precision higher than Model 2? {precision_comparison_result}\")\n",
    "print(f\"Is Model 1 recall higher than Model 2? {recall_comparison_result}\")"
   ]
  },
  {
   "cell_type": "code",
   "execution_count": null,
   "metadata": {},
   "outputs": [],
   "source": []
  }
 ],
 "metadata": {
  "kernelspec": {
   "display_name": "Python 3 (ipykernel)",
   "language": "python",
   "name": "python3"
  },
  "language_info": {
   "codemirror_mode": {
    "name": "ipython",
    "version": 3
   },
   "file_extension": ".py",
   "mimetype": "text/x-python",
   "name": "python",
   "nbconvert_exporter": "python",
   "pygments_lexer": "ipython3",
   "version": "3.10.13"
  }
 },
 "nbformat": 4,
 "nbformat_minor": 2
}
