{
 "cells": [
  {
   "cell_type": "markdown",
   "metadata": {},
   "source": [
    "## Exercise 1: Count Model Types\n",
    "\n",
    "In this exercise, you'll count the number of specific model types in a dataset. Use the dictionary of models and the list of model types to count the total number of each model type, but do not count other items in the dataset.\n",
    "\n",
    "**Example Input**:\n",
    "```python\n",
    "model_counts = {'logistic_regression': 4, 'decision_tree': 19, 'random_forest': 3, 'datasets': 8}\n",
    "model_types = ['logistic_regression', 'decision_tree', 'random_forest', 'support_vector_machine']\n",
    "```\n",
    "\n",
    "**Example Output**:\n",
    "```python\n",
    "result = 26\n",
    "```"
   ]
  },
  {
   "cell_type": "code",
   "execution_count": 1,
   "metadata": {},
   "outputs": [
    {
     "name": "stdout",
     "output_type": "stream",
     "text": [
      "Nice work!\n"
     ]
    }
   ],
   "source": [
    "result = 0\n",
    "model_counts = {'logistic_regression': 4, 'decision_tree': 19, 'random_forest': 3, 'datasets': 8}\n",
    "model_types = ['logistic_regression', 'decision_tree', 'random_forest', 'support_vector_machine']\n",
    "\n",
    "# Iterate through the dictionary\n",
    "for model, count in model_counts.items():\n",
    "    if model in model_types:\n",
    "        result += count\n",
    "\n",
    "### Notebook grading\n",
    "def get_solution(model_counts, model_types):\n",
    "    result = 0\n",
    "    for model, count in model_counts.items():\n",
    "        if model in model_types:\n",
    "            result += count\n",
    "    return result\n",
    "\n",
    "correct_answer = get_solution(model_counts, model_types)\n",
    "if result == correct_answer:\n",
    "    print(\"Nice work!\")\n",
    "else:\n",
    "    print(\"Try again. That doesn't look like what expected.\")"
   ]
  },
  {
   "cell_type": "markdown",
   "metadata": {},
   "source": [
    "## Exercise 2: Validate Model Type Counting Function\n",
    "\n",
    "In this exercise, you'll validate that your solution works with any dictionary of items to count the number of specific model types in the dataset.\n",
    "\n",
    "**Example Input 1**:\n",
    "```python\n",
    "model_counts = {'support_vector_machine': 5, 'neural_network': 19, 'random_forest': 3, 'datasets': 8, 'linear_regression': 4}\n",
    "model_types = ['logistic_regression', 'decision_tree', 'random_forest', 'support_vector_machine']\n",
    "```\n",
    "\n",
    "**Example Input 2**:\n",
    "```python\n",
    "model_counts = {'naive_bayes': 5, 'k_means': 2, 'random_forest': 3, 'datasets': 8, 'decision_tree': 4}\n",
    "model_types = ['logistic_regression', 'decision_tree', 'random_forest', 'support_vector_machine']\n",
    "```\n",
    "\n",
    "**Example Input 3**:\n",
    "```python\n",
    "model_counts = {'k_means': 2, 'datasets': 3, 'support_vector_machine': 8, 'logistic_regression': 4, 'pandas': 10}\n",
    "model_types = ['logistic_regression', 'decision_tree', 'random_forest', 'support_vector_machine']\n",
    "```"
   ]
  },
  {
   "cell_type": "code",
   "execution_count": 4,
   "metadata": {},
   "outputs": [
    {
     "name": "stdout",
     "output_type": "stream",
     "text": [
      "26\n",
      "26\n",
      "26\n"
     ]
    }
   ],
   "source": [
    "# Example 1\n",
    "result = 0\n",
    "dataset_items = {'support_vector_machine': 5, 'neural_network': 19, 'random_forest': 3, 'datasets': 8, 'linear_regression': 4}\n",
    "model_types = ['logistic_regression', 'decision_tree', 'random_forest', 'support_vector_machine']\n",
    "\n",
    "# Your previous solution here\n",
    "for model, count in model_counts.items():\n",
    "    if model in model_types:\n",
    "        result += count\n",
    "\n",
    "print(result)\n",
    "\n",
    "# Example 2\n",
    "result = 0\n",
    "dataset_items = {'naive_bayes': 5, 'k_means': 2, 'random_forest': 3, 'datasets': 8, 'decision_tree': 4}\n",
    "model_types = ['logistic_regression', 'decision_tree', 'random_forest', 'support_vector_machine']\n",
    "\n",
    "# Your previous solution here\n",
    "for model, count in model_counts.items():\n",
    "    if model in model_types:\n",
    "        result += count\n",
    "\n",
    "print(result)\n",
    "\n",
    "# Example 3\n",
    "result = 0\n",
    "dataset_items = {'k_means': 2, 'datasets': 3, 'support_vector_machine': 8, 'logistic_regression': 4, 'pandas': 10}\n",
    "model_types = ['logistic_regression', 'decision_tree', 'random_forest', 'support_vector_machine']\n",
    "\n",
    "# Your previous solution here\n",
    "for model, count in model_counts.items():\n",
    "    if model in model_types:\n",
    "        result += count\n",
    "\n",
    "print(result)"
   ]
  },
  {
   "cell_type": "markdown",
   "metadata": {},
   "source": [
    "## Exercise 3: Count Model Types and Other Items\n",
    "\n",
    "In this exercise, you'll count both the number of specific model types and other items in the dataset.\n",
    "\n",
    "**Example Input**:\n",
    "```python\n",
    "model_counts = {'logistic_regression': 4, 'decision_tree': 19, 'random_forest': 3, 'datasets': 8}\n",
    "model_types = ['logistic_regression', 'decision_tree', 'random_forest', 'support_vector_machine']\n",
    "```\n",
    "\n",
    "**Example Output**:\n",
    "```python\n",
    "model_count = 26\n",
    "non_model_count = 8\n",
    "```"
   ]
  },
  {
   "cell_type": "code",
   "execution_count": 5,
   "metadata": {},
   "outputs": [
    {
     "name": "stdout",
     "output_type": "stream",
     "text": [
      "Nice work!\n"
     ]
    }
   ],
   "source": [
    "model_count, non_model_count = 0, 0\n",
    "model_counts = {'logistic_regression': 4, 'decision_tree': 19, 'random_forest': 3, 'datasets': 8}\n",
    "model_types = ['logistic_regression', 'decision_tree', 'random_forest', 'support_vector_machine']\n",
    "\n",
    "# Iterate through the dictionary\n",
    "for model, count in model_counts.items():\n",
    "    if model in model_types:\n",
    "        model_count += count\n",
    "    else:\n",
    "        non_model_count += count\n",
    "\n",
    "### Notebook grading\n",
    "def get_solution(model_counts, model_types):\n",
    "    model_count, non_model_count = 0, 0\n",
    "    for model, count in model_counts.items():\n",
    "        if model in model_types:\n",
    "            model_count += count\n",
    "        else:\n",
    "            non_model_count += count\n",
    "    return model_count, non_model_count\n",
    "\n",
    "correct_model, correct_non_model = get_solution(model_counts, model_types)\n",
    "if model_count == correct_model and non_model_count == correct_non_model:\n",
    "    print(\"Nice work!\")\n",
    "else:\n",
    "    print(\"Try again. That doesn't look like what expected.\")"
   ]
  },
  {
   "cell_type": "markdown",
   "metadata": {},
   "source": [
    "## Exercise 4: Calculate Total Model Parameters\n",
    "\n",
    "In this exercise, you'll write a loop that iterates over a dictionary of models and their parameters, calculating the total number of parameters used by models of specific types.\n",
    "\n",
    "**Example Input**:\n",
    "```python\n",
    "model_parameters = {'logistic_regression': 100, 'decision_tree': 200, 'random_forest': 300, 'datasets': 50}\n",
    "model_types = ['logistic_regression', 'decision_tree', 'random_forest', 'support_vector_machine']\n",
    "```\n",
    "\n",
    "**Example Output**:\n",
    "```python\n",
    "total_parameters = 600\n",
    "```"
   ]
  },
  {
   "cell_type": "code",
   "execution_count": 6,
   "metadata": {},
   "outputs": [
    {
     "name": "stdout",
     "output_type": "stream",
     "text": [
      "Nice work!\n"
     ]
    }
   ],
   "source": [
    "model_parameters = {'logistic_regression': 100, 'decision_tree': 200, 'random_forest': 300, 'datasets': 50}\n",
    "model_types = ['logistic_regression', 'decision_tree', 'random_forest', 'support_vector_machine']\n",
    "total_parameters = 0\n",
    "\n",
    "# Iterate through the dictionary\n",
    "for model, params in model_parameters.items():\n",
    "    if model in model_types:\n",
    "        total_parameters += params\n",
    "\n",
    "### Notebook grading\n",
    "def get_solution(model_parameters, model_types):\n",
    "    total_parameters = 0\n",
    "    for model, params in model_parameters.items():\n",
    "        if model in model_types:\n",
    "            total_parameters += params\n",
    "    return total_parameters\n",
    "\n",
    "correct_total_parameters = get_solution(model_parameters, model_types)\n",
    "if total_parameters == correct_total_parameters:\n",
    "    print(\"Nice work!\")\n",
    "else:\n",
    "    print(\"Try again. That doesn't look like what expected.\")"
   ]
  },
  {
   "cell_type": "markdown",
   "metadata": {},
   "source": [
    "## Exercise 5: Separate Models by Type\n",
    "\n",
    "In this exercise, you'll write a loop that iterates over a dictionary of models and separates them into different categories based on their types.\n",
    "\n",
    "**Example Input**:\n",
    "```python\n",
    "model_info = {'model_a': 'regression', 'model_b': 'classification', 'model_c': 'clustering', 'model_d': 'regression'}\n",
    "model_categories = {'regression': 0, 'classification': 0, 'clustering': 0}\n",
    "```\n",
    "\n",
    "**Example Output**:\n",
    "```python\n",
    "model_categories = {'regression': 2, 'classification': 1, 'clustering': 1}\n",
    "```"
   ]
  },
  {
   "cell_type": "code",
   "execution_count": 7,
   "metadata": {},
   "outputs": [
    {
     "name": "stdout",
     "output_type": "stream",
     "text": [
      "Nice work!\n"
     ]
    }
   ],
   "source": [
    "model_info = {'model_a': 'regression', 'model_b': 'classification', 'model_c': 'clustering', 'model_d': 'regression'}\n",
    "model_categories = {'regression': 0, 'classification': 0, 'clustering': 0}\n",
    "\n",
    "# Iterate through the dictionary\n",
    "for model, category in model_info.items():\n",
    "    if category in model_categories:\n",
    "        model_categories[category] += 1\n",
    "\n",
    "### Notebook grading\n",
    "def get_solution(model_info, model_categories):\n",
    "    model_categories = {'regression': 0, 'classification': 0, 'clustering': 0}\n",
    "    for model, category in model_info.items():\n",
    "        if category in model_categories:\n",
    "            model_categories[category] += 1\n",
    "    return model_categories\n",
    "\n",
    "correct_model_categories = get_solution(model_info, model_categories)\n",
    "if model_categories == correct_model_categories:\n",
    "    print(\"Nice work!\")\n",
    "else:\n",
    "    print(\"Try again. That doesn't look like what expected.\")"
   ]
  },
  {
   "cell_type": "markdown",
   "metadata": {},
   "source": [
    "## Exercise 6: Filter Models by Accuracy\n",
    "\n",
    "In this exercise, you'll write a loop that iterates over a dictionary of models and their accuracies, filtering out models that do not meet a specified accuracy threshold.\n",
    "\n",
    "**Example Input**:\n",
    "```python\n",
    "model_accuracies = {'model_a': 0.95, 'model_b': 0.80, 'model_c': 0.85, 'model_d': 0.90}\n",
    "accuracy_threshold = 0.85\n",
    "```\n",
    "\n",
    "**Example Output**:\n",
    "```python\n",
    "filtered_models = {'model_a': 0.95, 'model_c': 0.85, 'model_d': 0.90}\n",
    "count = 3\n",
    "```"
   ]
  },
  {
   "cell_type": "code",
   "execution_count": 10,
   "metadata": {},
   "outputs": [
    {
     "name": "stdout",
     "output_type": "stream",
     "text": [
      "Nice work!\n"
     ]
    }
   ],
   "source": [
    "model_accuracies = {'model_a': 0.95, 'model_b': 0.80, 'model_c': 0.85, 'model_d': 0.90}\n",
    "accuracy_threshold = 0.85\n",
    "filtered_models = {}\n",
    "count = 0\n",
    "\n",
    "# Iterate through the dictionary\n",
    "for model, accuracy in model_accuracies.items():\n",
    "    if accuracy >= accuracy_threshold:\n",
    "        filtered_models[model] = accuracy\n",
    "        count += 1\n",
    "\n",
    "### Notebook grading\n",
    "def get_solution(model_accuracies, accuracy_threshold):\n",
    "    filtered_models = {}\n",
    "    count = 0\n",
    "    for model, accuracy in model_accuracies.items():\n",
    "        if accuracy >= accuracy_threshold:\n",
    "            filtered_models[model] = accuracy\n",
    "            count += 1\n",
    "    return filtered_models, count\n",
    "\n",
    "correct_filtered_models, correct_count = get_solution(model_accuracies, accuracy_threshold)\n",
    "if filtered_models == correct_filtered_models and count == correct_count:\n",
    "    print(\"Nice work!\")\n",
    "else:\n",
    "    print(\"Try again. That doesn't look like what expected.\")"
   ]
  },
  {
   "cell_type": "code",
   "execution_count": null,
   "metadata": {},
   "outputs": [],
   "source": []
  }
 ],
 "metadata": {
  "kernelspec": {
   "display_name": "Python 3 (ipykernel)",
   "language": "python",
   "name": "python3"
  },
  "language_info": {
   "codemirror_mode": {
    "name": "ipython",
    "version": 3
   },
   "file_extension": ".py",
   "mimetype": "text/x-python",
   "name": "python",
   "nbconvert_exporter": "python",
   "pygments_lexer": "ipython3",
   "version": "3.10.13"
  }
 },
 "nbformat": 4,
 "nbformat_minor": 2
}
