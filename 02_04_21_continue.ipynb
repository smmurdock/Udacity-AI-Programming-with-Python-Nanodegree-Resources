{
  "cells": [
    {
      "cell_type": "markdown",
      "metadata": {
        "id": "view-in-github",
        "colab_type": "text"
      },
      "source": [
        "<a href=\"https://colab.research.google.com/github/smmurdock/Udacity-AI-Programming-with-Python-Nanodegree-Resources/blob/main/02_04_21_continue.ipynb\" target=\"_parent\"><img src=\"https://colab.research.google.com/assets/colab-badge.svg\" alt=\"Open In Colab\"/></a>"
      ]
    },
    {
      "cell_type": "code",
      "execution_count": 1,
      "metadata": {
        "id": "GGYk8Tig_OnP",
        "outputId": "16878275-3671-4d70-aa32-623b112f54aa",
        "colab": {
          "base_uri": "https://localhost:8080/"
        }
      },
      "outputs": [
        {
          "output_type": "stream",
          "name": "stdout",
          "text": [
            "METHOD 1\n",
            "current weight: 0\n",
            "  adding bananas (15)\n",
            "current weight: 15\n",
            "  adding mattresses (24)\n",
            "current weight: 39\n",
            "  adding dog kennels (42)\n",
            "current weight: 81\n",
            "  adding machine (120)\n",
            "current weight: 201\n",
            "  breaking loop now!\n",
            "\n",
            "Final Weight: 201\n",
            "Final Items: ['bananas', 'mattresses', 'dog kennels', 'machine']\n",
            "\n",
            "METHOD 2\n",
            "current weight: 0\n",
            "  adding bananas (15)\n",
            "current weight: 15\n",
            "  adding mattresses (24)\n",
            "current weight: 39\n",
            "  adding dog kennels (42)\n",
            "current weight: 81\n",
            "  skipping machine (120)\n",
            "current weight: 81\n",
            "  adding cheeses (5)\n",
            "\n",
            "Final Weight: 86\n",
            "Final Items: ['bananas', 'mattresses', 'dog kennels', 'cheeses']\n"
          ]
        }
      ],
      "source": [
        "manifest = [(\"bananas\", 15), (\"mattresses\", 24), (\"dog kennels\", 42),\n",
        "            (\"machine\", 120), (\"cheeses\", 5)]\n",
        "\n",
        "# the code breaks the loop when weight exceeds or reaches the limit\n",
        "print(\"METHOD 1\")\n",
        "weight = 0\n",
        "items = []\n",
        "for cargo_name, cargo_weight in manifest:\n",
        "    print(\"current weight: {}\".format(weight))\n",
        "    if weight >= 100:\n",
        "        print(\"  breaking loop now!\")\n",
        "        break\n",
        "    else:\n",
        "        print(\"  adding {} ({})\".format(cargo_name, cargo_weight))\n",
        "        items.append(cargo_name)\n",
        "        weight += cargo_weight\n",
        "\n",
        "print(\"\\nFinal Weight: {}\".format(weight))\n",
        "print(\"Final Items: {}\".format(items))\n",
        "\n",
        "# skips an iteration when adding an item would exceed the limit\n",
        "# Breaks the loop if weight is greater than or equal to the limit\n",
        "print(\"\\nMETHOD 2\")\n",
        "weight = 0\n",
        "items = []\n",
        "for cargo_name, cargo_weight in manifest:\n",
        "    print(\"current weight: {}\".format(weight))\n",
        "    if weight >= 100:\n",
        "        print(\"  breaking from the loop now!\")\n",
        "        break\n",
        "    elif weight + cargo_weight > 100:\n",
        "        print(\"  skipping {} ({})\".format(cargo_name, cargo_weight))\n",
        "        continue\n",
        "    else:\n",
        "        print(\"  adding {} ({})\".format(cargo_name, cargo_weight))\n",
        "        items.append(cargo_name)\n",
        "        weight += cargo_weight\n",
        "\n",
        "print(\"\\nFinal Weight: {}\".format(weight))\n",
        "print(\"Final Items: {}\".format(items))"
      ]
    },
    {
      "cell_type": "code",
      "execution_count": null,
      "metadata": {
        "id": "oSS-3s6S_OnS"
      },
      "outputs": [],
      "source": []
    }
  ],
  "metadata": {
    "kernelspec": {
      "display_name": "Python 3 (ipykernel)",
      "language": "python",
      "name": "python3"
    },
    "language_info": {
      "codemirror_mode": {
        "name": "ipython",
        "version": 3
      },
      "file_extension": ".py",
      "mimetype": "text/x-python",
      "name": "python",
      "nbconvert_exporter": "python",
      "pygments_lexer": "ipython3",
      "version": "3.10.13"
    },
    "colab": {
      "provenance": [],
      "include_colab_link": true
    }
  },
  "nbformat": 4,
  "nbformat_minor": 0
}