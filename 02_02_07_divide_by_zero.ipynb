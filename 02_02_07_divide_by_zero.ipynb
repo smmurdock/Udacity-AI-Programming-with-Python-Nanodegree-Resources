{
 "cells": [
  {
   "cell_type": "markdown",
   "metadata": {
    "grader_id": "ituocihuube"
   },
   "source": [
    "## Quiz: Handling Exceptions in Data Processing\n",
    "### Scenario:\n",
    "You are working on a data processing pipeline for a machine learning project. Sometimes, the data might contain invalid values that cause errors during processing. You need to ensure your code can handle these exceptions gracefully.\n",
    "\n",
    "### Task:\n",
    "Write code that handles a ZeroDivisionError during data processing. If an exception occurs, it should print a friendly error message instead of crashing."
   ]
  },
  {
   "cell_type": "code",
   "execution_count": 1,
   "metadata": {},
   "outputs": [
    {
     "name": "stdout",
     "output_type": "stream",
     "text": [
      "It appears you are trying to divide by 0. Please select a valid number for division.\n"
     ]
    }
   ],
   "source": [
    "# Function to process data\n",
    "def process_data(value):\n",
    "    try:\n",
    "        # Perform a division operation\n",
    "        result = 100 / value\n",
    "        print(f\"Result: {result}\")\n",
    "    except ZeroDivisionError:\n",
    "        # Handle the division by zero exception\n",
    "        print(\"It appears you are trying to divide by 0. Please select a valid number for division.\")\n",
    "\n",
    "# Test the function with an invalid value (0) to trigger the exception\n",
    "process_data(0)\n"
   ]
  },
  {
   "cell_type": "code",
   "execution_count": null,
   "metadata": {},
   "outputs": [],
   "source": []
  }
 ],
 "metadata": {
  "kernelspec": {
   "display_name": "Python 3 (ipykernel)",
   "language": "python",
   "name": "python3"
  },
  "language_info": {
   "codemirror_mode": {
    "name": "ipython",
    "version": 3
   },
   "file_extension": ".py",
   "mimetype": "text/x-python",
   "name": "python",
   "nbconvert_exporter": "python",
   "pygments_lexer": "ipython3",
   "version": "3.10.13"
  }
 },
 "nbformat": 4,
 "nbformat_minor": 2
}
