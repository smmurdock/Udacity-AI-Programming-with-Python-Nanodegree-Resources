{
 "cells": [
  {
   "cell_type": "markdown",
   "metadata": {},
   "source": [
    "## Quiz: Indexing Image Dimensions\n",
    "\n",
    "In this exercise, you'll use list indexing to determine the height of an image based on the integer variable `image_index`, and store that value in the integer variable `image_height`. For example, if image_index is 2, image_height should be set to the height of the third image.\n",
    "\n",
    "The dimensions of each image (width, height) are stored in the list `image_dimensions`."
   ]
  },
  {
   "cell_type": "code",
   "execution_count": 6,
   "metadata": {},
   "outputs": [
    {
     "name": "stdout",
     "output_type": "stream",
     "text": [
      "Nice work! I found image_height like this: `image_dimensions[image_index][1]`.\n"
     ]
    }
   ],
   "source": [
    "# Dimensions of each image in the format (width, height)\n",
    "image_dimensions = [(640, 480), (800, 600), (1024, 768), (1280, 720), (1920, 1080)]\n",
    "\n",
    "# The index of the image for which we want to find the height\n",
    "image_index = 2\n",
    "\n",
    "# TODO: replace None with appropriate code\n",
    "# Use list indexing to determine the height for `image_index`\n",
    "image_height = image_dimensions[image_index][1]\n",
    "\n",
    "### Notebook grading\n",
    "correct_answer = 768\n",
    "if image_height != correct_answer:\n",
    "    print(\"Not quite! Did you account for zero-based indexing?\")\n",
    "else:\n",
    "    print(\"Nice work! I found image_height like this: `image_dimensions[image_index][1]`.\")\n"
   ]
  },
  {
   "cell_type": "markdown",
   "metadata": {},
   "source": [
    "## Quiz: Slicing Image Filenames\n",
    "\n",
    "Select the filenames of the last three images from the list using list slicing notation. \n",
    "\n",
    "Hint: negative indexes work in slices!"
   ]
  },
  {
   "cell_type": "code",
   "execution_count": 8,
   "metadata": {},
   "outputs": [
    {
     "name": "stdout",
     "output_type": "stream",
     "text": [
      "['img_004.jpg', 'img_005.jpg', 'img_006.jpg']\n",
      "My solution is this: `image_filenames[-3:]`\n",
      "This slice uses a negative index to begin slicing three elements from the end of the list. The end index can be omitted because this slice continues until the end of the list.\n"
     ]
    }
   ],
   "source": [
    "# Filenames of images\n",
    "image_filenames = ['img_001.jpg', 'img_002.jpg', 'img_003.jpg', 'img_004.jpg', \n",
    "                   'img_005.jpg', 'img_006.jpg']\n",
    "\n",
    "# TODO: Replace None with appropriate code\n",
    "# Modify this code so it prints the filenames of the last three images\n",
    "last_three_filenames = image_filenames[-3:]\n",
    "print(last_three_filenames)\n",
    "\n",
    "### Notebook grading\n",
    "correct_answer = ['img_004.jpg', 'img_005.jpg', 'img_006.jpg']\n",
    "if last_three_filenames != correct_answer:\n",
    "    print(\"Double check your slicing! Your code should print a list of the last three filenames from the original list, and nothing else.\")\n",
    "else:\n",
    "    print('''My solution is this: `image_filenames[-3:]`\n",
    "This slice uses a negative index to begin slicing three elements from the end of the list. The end index can be omitted because this slice continues until the end of the list.''')\n"
   ]
  },
  {
   "cell_type": "markdown",
   "metadata": {},
   "source": [
    "## Quiz: Palindrome Check on Image Classifications\n",
    "\n",
    "In this exercise, you'll use list slicing to determine if a sequence of image classifications forms a palindrome. A palindrome is a sequence that reads the same backward as forward.\n",
    "\n",
    "The list image_classifications contains the predicted classes of a series of images processed by an image classification model.\n",
    "\n",
    "Hint: You need to use list slicing to reverse the list. The slicing syntax `[::-1]` reverses the list."
   ]
  },
  {
   "cell_type": "code",
   "execution_count": 10,
   "metadata": {},
   "outputs": [
    {
     "name": "stdout",
     "output_type": "stream",
     "text": [
      "True\n",
      "Nice work! I found is_palindrome like this: `image_classifications == image_classifications[::-1]`.\n"
     ]
    }
   ],
   "source": [
    "# Predicted classes of a series of images\n",
    "image_classifications = ['dog', 'cat', 'bird', 'cat', 'dog']\n",
    "\n",
    "# TODO: replace None with appropriate code\n",
    "# Use list slicing to reverse the list and check if it forms a palindrome\n",
    "is_palindrome = image_classifications == image_classifications[::-1]\n",
    "print(is_palindrome)\n",
    "\n",
    "### Notebook grading\n",
    "correct_answer = True\n",
    "if is_palindrome != correct_answer:\n",
    "    print(\"Not quite! Remember to use list slicing to reverse the list and check if it matches the original list.\")\n",
    "else:\n",
    "    print(\"Nice work! I found is_palindrome like this: `image_classifications == image_classifications[::-1]`.\")\n"
   ]
  },
  {
   "cell_type": "code",
   "execution_count": null,
   "metadata": {},
   "outputs": [],
   "source": []
  }
 ],
 "metadata": {
  "kernelspec": {
   "display_name": "Python 3 (ipykernel)",
   "language": "python",
   "name": "python3"
  },
  "language_info": {
   "codemirror_mode": {
    "name": "ipython",
    "version": 3
   },
   "file_extension": ".py",
   "mimetype": "text/x-python",
   "name": "python",
   "nbconvert_exporter": "python",
   "pygments_lexer": "ipython3",
   "version": "3.10.13"
  }
 },
 "nbformat": 4,
 "nbformat_minor": 2
}
