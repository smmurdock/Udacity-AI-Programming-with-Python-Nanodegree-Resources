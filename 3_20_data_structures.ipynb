{
 "cells": [
  {
   "cell_type": "markdown",
   "metadata": {},
   "source": [
    "## Quiz: Count Unique Words in AI Model Descriptions\n",
    "\n",
    "Your task for this quiz is to find the number of unique words in the text of AI model descriptions. In the code editor below, complete these three steps to get your answer.\n",
    "\n",
    "1. Split model_descriptions into a list of words. Hint: You can use a string method you learned in the previous lesson.\n",
    "2. Convert the list into a data structure that would keep only the unique elements from the list.\n",
    "3. Print the length of the container."
   ]
  },
  {
   "cell_type": "code",
   "execution_count": 5,
   "metadata": {},
   "outputs": [
    {
     "name": "stdout",
     "output_type": "stream",
     "text": [
      "ResNet is a convolutional neural network that is 50 layers deep. MobileNet is a lightweight convolutional neural network designed for mobile and embedded vision applications. VGG is a convolutional neural network model proposed by Visual Geometry Group of Oxford University. Inception is a deep convolutional neural network architecture that has achieved state-of-the-art results. \n",
      "\n",
      "['ResNet', 'is', 'a', 'convolutional', 'neural', 'network', 'that', 'is', '50', 'layers', 'deep.', 'MobileNet', 'is', 'a', 'lightweight', 'convolutional', 'neural', 'network', 'designed', 'for', 'mobile', 'and', 'embedded', 'vision', 'applications.', 'VGG', 'is', 'a', 'convolutional', 'neural', 'network', 'model', 'proposed', 'by', 'Visual', 'Geometry', 'Group', 'of', 'Oxford', 'University.', 'Inception', 'is', 'a', 'deep', 'convolutional', 'neural', 'network', 'architecture', 'that', 'has', 'achieved', 'state-of-the-art', 'results.'] \n",
      "\n",
      "{'a', 'proposed', 'of', 'has', 'vision', 'is', 'convolutional', 'architecture', '50', 'and', 'deep', 'Inception', 'that', 'achieved', 'network', 'model', 'mobile', 'deep.', 'University.', 'by', 'state-of-the-art', 'embedded', 'for', 'Geometry', 'layers', 'ResNet', 'lightweight', 'Oxford', 'results.', 'VGG', 'Visual', 'designed', 'Group', 'applications.', 'MobileNet', 'neural'} \n",
      "\n",
      "36 \n",
      "\n",
      "Nice job! You can see my solution in the next page.\n"
     ]
    }
   ],
   "source": [
    "model_descriptions = \"ResNet is a convolutional neural network that is 50 layers deep. MobileNet is a lightweight convolutional neural network designed for mobile and embedded vision applications. VGG is a convolutional neural network model proposed by Visual Geometry Group of Oxford University. Inception is a deep convolutional neural network architecture that has achieved state-of-the-art results.\"\n",
    "\n",
    "print(model_descriptions, '\\n')\n",
    "\n",
    "# TODO: replace None with appropriate code\n",
    "# split model_descriptions into list of words\n",
    "model_list = model_descriptions.split()\n",
    "print(model_list, '\\n')\n",
    "\n",
    "# TODO: replace None with appropriate code\n",
    "# convert list to a data structure that stores unique elements\n",
    "model_set = set(model_list)\n",
    "print(model_set, '\\n')\n",
    "\n",
    "# TODO: replace None with appropriate code\n",
    "# find the number of unique words\n",
    "num_unique = len(model_set)\n",
    "print(num_unique, '\\n')\n",
    "\n",
    "### Notebook grading\n",
    "correct_answer = 36  # Adjust this according to the actual count\n",
    "if type(model_list) != list:\n",
    "    print(\"`model_list` should be a list of all words in `model_descriptions`.\")\n",
    "elif type(model_set) != set:\n",
    "    print(\"`model_set` should be a set of all unique words in `model_list`.\")\n",
    "elif type(num_unique) != int:\n",
    "    print(\"Make sure you define `num_unique` with the number of unique words!\")\n",
    "elif num_unique != correct_answer:\n",
    "    print(\"Not quite! Are you finding the length of the set correctly?\")\n",
    "else:\n",
    "    print(\"Nice job! You can see my solution in the next page.\")\n"
   ]
  },
  {
   "cell_type": "markdown",
   "metadata": {},
   "source": [
    "## Quiz: Model Accuracy Dictionary\n",
    "\n",
    "In the code cell below, you'll find a dictionary containing the names of different AI models as keys and their corresponding accuracy values stored as values. Use this dictionary to answer the following questions. Submit these answers in the quiz below this Jupyter Notebook.\n",
    "\n",
    "Try to answer these using code, rather than inspecting the dictionary manually!\n",
    "\n",
    "1. How many unique models are in model_accuracy_dict?\n",
    "2. Is the key \"SqueezeNet\" in model_accuracy_dict?\n",
    "3. What is the first element in the list created when model_accuracy_dict is sorted by keys?\n",
    "4. Which key (model) has the highest value in model_accuracy_dict?"
   ]
  },
  {
   "cell_type": "code",
   "execution_count": 11,
   "metadata": {},
   "outputs": [
    {
     "name": "stdout",
     "output_type": "stream",
     "text": [
      "{'ResNet': 0.91, 'MobileNet': 0.89, 'VGG': 0.88, 'Inception': 0.92, 'AlexNet': 0.85, 'EfficientNet': 0.93, 'SqueezeNet': 0.87} \n",
      "\n",
      "7\n",
      "True\n",
      "['AlexNet', 'EfficientNet', 'Inception', 'MobileNet', 'ResNet', 'SqueezeNet', 'VGG']\n",
      "AlexNet\n",
      "EfficientNet\n"
     ]
    }
   ],
   "source": [
    "model_accuracy_dict = {\n",
    "    'ResNet': 0.91, 'MobileNet': 0.89, 'VGG': 0.88, 'Inception': 0.92, \n",
    "    'AlexNet': 0.85, 'EfficientNet': 0.93, 'SqueezeNet': 0.87\n",
    "}\n",
    "\n",
    "print(model_accuracy_dict, '\\n')\n",
    "\n",
    "# find number of unique keys in the dictionary\n",
    "num_models = len(model_accuracy_dict)\n",
    "print(num_models)\n",
    "\n",
    "# find whether 'SqueezeNet' is a key in the dictionary\n",
    "contains_squeezenet = 'SqueezeNet' in model_accuracy_dict\n",
    "print(contains_squeezenet)\n",
    "\n",
    "# create and sort a list of the dictionary's keys\n",
    "sorted_keys = sorted(list(model_accuracy_dict.keys()))\n",
    "print(sorted_keys)\n",
    "\n",
    "# get the first element in the sorted list of keys\n",
    "first_key = sorted_keys[0]\n",
    "print(first_key)\n",
    "\n",
    "# find the element with the highest value in the dictionary\n",
    "highest_accuracy_model = max(model_accuracy_dict, key=model_accuracy_dict.get)\n",
    "print(highest_accuracy_model)\n"
   ]
  },
  {
   "cell_type": "code",
   "execution_count": 12,
   "metadata": {},
   "outputs": [
    {
     "name": "stdout",
     "output_type": "stream",
     "text": [
      "Nice job! You can see my solution in the next page.\n"
     ]
    }
   ],
   "source": [
    "correct_num_models = 7\n",
    "correct_contains_squeezenet = True\n",
    "correct_first_key = 'AlexNet'\n",
    "correct_highest_accuracy_model = 'EfficientNet'\n",
    "\n",
    "if num_models != correct_num_models:\n",
    "    print(f\"Not quite! The number of unique models should be {correct_num_models}.\")\n",
    "elif contains_squeezenet != correct_contains_squeezenet:\n",
    "    print(f\"Not quite! Check if 'SqueezeNet' is a key in the dictionary.\")\n",
    "elif first_key != correct_first_key:\n",
    "    print(f\"Not quite! The first key when sorted should be {correct_first_key}.\")\n",
    "elif highest_accuracy_model != correct_highest_accuracy_model:\n",
    "    print(f\"Not quite! The model with the highest accuracy should be {correct_highest_accuracy_model}.\")\n",
    "else:\n",
    "    print(\"Nice job! You can see my solution in the next page.\")\n"
   ]
  },
  {
   "cell_type": "code",
   "execution_count": null,
   "metadata": {},
   "outputs": [],
   "source": []
  }
 ],
 "metadata": {
  "kernelspec": {
   "display_name": "Python 3 (ipykernel)",
   "language": "python",
   "name": "python3"
  },
  "language_info": {
   "codemirror_mode": {
    "name": "ipython",
    "version": 3
   },
   "file_extension": ".py",
   "mimetype": "text/x-python",
   "name": "python",
   "nbconvert_exporter": "python",
   "pygments_lexer": "ipython3",
   "version": "3.10.13"
  }
 },
 "nbformat": 4,
 "nbformat_minor": 2
}
