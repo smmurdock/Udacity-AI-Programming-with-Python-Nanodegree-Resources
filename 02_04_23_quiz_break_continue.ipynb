{
  "cells": [
    {
      "cell_type": "markdown",
      "metadata": {
        "id": "view-in-github",
        "colab_type": "text"
      },
      "source": [
        "<a href=\"https://colab.research.google.com/github/smmurdock/Udacity-AI-Programming-with-Python-Nanodegree-Resources/blob/main/02_04_23_quiz_break_continue.ipynb\" target=\"_parent\"><img src=\"https://colab.research.google.com/assets/colab-badge.svg\" alt=\"Open In Colab\"/></a>"
      ]
    },
    {
      "cell_type": "markdown",
      "metadata": {
        "id": "wBfq6uKRCuzz"
      },
      "source": [
        "### Exercise: Feature Summary for Tweet\n",
        "\n",
        "In this exercise, you'll concatenate model feature descriptions into a single string for a tweet, ensuring the final string does not exceed 140 characters.\n",
        "\n",
        "#### Problem Statement\n",
        "\n",
        "Given a list of model feature descriptions, concatenate them into a single string for a tweet. The final string should not exceed 140 characters.\n",
        "\n",
        "**Example Input**:\n",
        "```python\n",
        "features = [\n",
        "    \"Feature 1: High accuracy\",\n",
        "    \"Feature 2: Low latency\",\n",
        "    \"Feature 3: Scalability\",\n",
        "    \"Feature 4: Robustness\",\n",
        "    \"Feature 5: Interpretability\"\n",
        "]\n",
        "```\n",
        "\n",
        "**Instructions**:\n",
        "1. Initialize an empty string `feature_summary`.\n",
        "2. Iterate through the `features` list and concatenate each feature to `feature_summary` with a line break (`\\n`) in between.\n",
        "3. Ensure that the final `feature_summary` does not exceed 140 characters."
      ]
    },
    {
      "cell_type": "code",
      "execution_count": 1,
      "metadata": {
        "id": "KBRluiIdCuz2",
        "outputId": "2fa4fc6a-cb9f-4e32-f53d-d7fee9097034",
        "colab": {
          "base_uri": "https://localhost:8080/"
        }
      },
      "outputs": [
        {
          "output_type": "stream",
          "name": "stdout",
          "text": [
            "Feature 1: High accuracy\n",
            "Feature 2: Low latency\n",
            "Feature 3: Scalability\n",
            "Feature 4: Robustness\n",
            "Feature 5: Interpretability\n",
            "Well done!\n"
          ]
        }
      ],
      "source": [
        "features = [\n",
        "    \"Feature 1: High accuracy\",\n",
        "    \"Feature 2: Low latency\",\n",
        "    \"Feature 3: Scalability\",\n",
        "    \"Feature 4: Robustness\",\n",
        "    \"Feature 5: Interpretability\"\n",
        "]\n",
        "\n",
        "feature_summary = \"\"\n",
        "# Write your loop here\n",
        "# TODO\n",
        "for feature in features:\n",
        "    if len(feature_summary) + len(feature) + 1 > 140:\n",
        "        if feature_summary:\n",
        "            feature_summary += \"\\n\"\n",
        "        feature_summary += feature[:140 - len(feature_summary)]\n",
        "        break\n",
        "    if feature_summary:\n",
        "        feature_summary += \"\\n\"\n",
        "    feature_summary += feature\n",
        "\n",
        "# Print the resulting summary\n",
        "print(feature_summary)\n",
        "\n",
        "### Notebook grading\n",
        "def get_solution(features):\n",
        "    feature_summary = \"\"\n",
        "    for feature in features:\n",
        "        if len(feature_summary) + len(feature) + 1 > 140:\n",
        "            if feature_summary:\n",
        "                feature_summary += \"\\n\"\n",
        "            feature_summary += feature[:140 - len(feature_summary)]\n",
        "            break\n",
        "        if feature_summary:\n",
        "            feature_summary += \"\\n\"\n",
        "        feature_summary += feature\n",
        "\n",
        "    return feature_summary\n",
        "\n",
        "correct_ans = get_solution(features)\n",
        "\n",
        "if feature_summary == correct_ans:\n",
        "    print(\"Well done!\")\n",
        "else:\n",
        "    print(\"Make sure you're inserting spaces between each feature, and that the summary is exactly 140 characters long.\")"
      ]
    },
    {
      "cell_type": "code",
      "source": [],
      "metadata": {
        "id": "HD3_h9MQJO_T"
      },
      "execution_count": null,
      "outputs": []
    }
  ],
  "metadata": {
    "kernelspec": {
      "display_name": "Python 3 (ipykernel)",
      "language": "python",
      "name": "python3"
    },
    "language_info": {
      "codemirror_mode": {
        "name": "ipython",
        "version": 3
      },
      "file_extension": ".py",
      "mimetype": "text/x-python",
      "name": "python",
      "nbconvert_exporter": "python",
      "pygments_lexer": "ipython3",
      "version": "3.10.13"
    },
    "colab": {
      "provenance": [],
      "include_colab_link": true
    }
  },
  "nbformat": 4,
  "nbformat_minor": 0
}