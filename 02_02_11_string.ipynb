{
 "cells": [
  {
   "cell_type": "markdown",
   "metadata": {
    "grader_id": "4r6pkvo7gs6"
   },
   "source": [
    "## Quiz 1: Fixing Syntax Errors in Text Data\n",
    "### Scenario:\n",
    "You are preprocessing text data for an NLP model, and you encounter a syntax error due to the misuse of quotation marks.\n",
    "\n",
    "### Task:\n",
    "Fix the quotation marks in the given text so that it can be correctly assigned to the variable `ford_quote`."
   ]
  },
  {
   "cell_type": "code",
   "execution_count": 1,
   "metadata": {
    "grader_id": "nov2oo5y0u",
    "scrolled": true
   },
   "outputs": [
    {
     "name": "stdout",
     "output_type": "stream",
     "text": [
      "You fixed the string, nice work!\n"
     ]
    }
   ],
   "source": [
    "# TODO: Fix this string!\n",
    "ford_quote = \"Whether you think you can, or you think you can't--you're right.\"\n",
    "\n",
    "### Notebook grading\n",
    "if ford_quote == \"Whether you think you can, or you think you can't--you're right.\":\n",
    "    print(\"You fixed the string, nice work!\")\n",
    "else:\n",
    "    print(\"Your code has no errors, but the `ford_quote` variable has the wrong value. Double check your work!\")"
   ]
  },
  {
   "cell_type": "markdown",
   "metadata": {
    "grader_id": "7z7k5bls0nq"
   },
   "source": [
    "## Quiz 2: Logging Model Results\n",
    "### Scenario:\n",
    "You are logging the results of model predictions for a machine learning model. You need to format a log message that includes the username, the time of the prediction, and the predicted label.\n",
    "\n",
    "### Task:\n",
    "Write a log message using the provided variables. The message should have the same format as: \n",
    "> \"User {username} received a prediction of {predicted_label} at {timestamp}.\""
   ]
  },
  {
   "cell_type": "code",
   "execution_count": 2,
   "metadata": {
    "grader_id": "hohmuqv9gev"
   },
   "outputs": [
    {
     "name": "stdout",
     "output_type": "stream",
     "text": [
      "Nice work!\n"
     ]
    }
   ],
   "source": [
    "username = \"Kinari\"\n",
    "timestamp = \"04:50\"\n",
    "predicted_label = \"cat\"\n",
    "\n",
    "# TODO: write a log message using the variables above.\n",
    "# The message should have the same format as this one:\n",
    "# \"User Kinari received a prediction of cat at 04:50.\"\n",
    "\n",
    "message = f\"User {username} received a prediction of {predicted_label} at {timestamp}.\"\n",
    "\n",
    "### Notebook grading\n",
    "def space_error(message):\n",
    "    feedback = \"\"\n",
    "    error = False\n",
    "    \"\"\"see if students forget to include a space\"\"\"\n",
    "    if message == '':\n",
    "        error = True\n",
    "        feedback = 'Looks like you are not printing anything!'\n",
    "        return error, feedback\n",
    "    if message[0]=='\"' or message[-1]=='\"':\n",
    "        feedback = \"The line does not need to start or end with quotes.\"\n",
    "        error = True\n",
    "    if \"Kinarireceived\" in message:\n",
    "        feedback = 'You forgot to include a space between \"Kinari\" and \"received\".'\n",
    "        error = True\n",
    "    if \"predictionof\" in message:\n",
    "        error = True\n",
    "        feedback = 'You forgot to include a space between \"prediction\" and \"of\".'\n",
    "    if \"at04\" in message:\n",
    "        error = True\n",
    "        feedback = 'You forgot to include a space between \"at\" and the timestamp.'\n",
    "    if message == ' ':\n",
    "        error = True\n",
    "        feedback = 'Looks like you are printing a space!'\n",
    "    if message == \"User Kinari received a prediction of cat at 04:50\":\n",
    "        feedback = 'Your log message doesn\\'t have a period \".\" at the end'\n",
    "        error = True\n",
    "    if 'User Yogesh' in message or 'dog' in message or '16:20' in message:\n",
    "        feedback = 'Use the variables `username`, `timestamp`, and `predicted_label` in the log message.'\n",
    "        error = True\n",
    "    return error, feedback\n",
    "    \n",
    "error, feedback = space_error(message)\n",
    "if message == \"User Kinari received a prediction of cat at 04:50.\":\n",
    "    print(\"Nice work!\")\n",
    "elif error:\n",
    "    print(feedback)\n",
    "else:\n",
    "    print('That\\'s not quite right. Are you formatting your string correctly?')"
   ]
  },
  {
   "cell_type": "markdown",
   "metadata": {
    "grader_id": "4saz55xagwh"
   },
   "source": [
    "## Quiz 3: Preparing Text for Named Entity Recognition (NER)\n",
    "\n",
    "Named Entity Recognition (NER) is a subtask of information extraction that seeks to locate and classify named entities in text into predefined categories such as the names of persons, organizations, locations, expressions of times, quantities, monetary values, percentages, etc. Preparing text data for NER involves ensuring that the text strings fit within specified limits and are correctly formatted.\n",
    "\n",
    "### Scenario:\n",
    "You are preparing text data for a Named Entity Recognition (NER) task. You need to ensure that the full name of a person fits within a specified character limit for a named entity.\n",
    "\n",
    "### Task:\n",
    "Use string concatenation and the `len()` function to find the length of the given name, including spaces. Store the length in the variable `name_length`."
   ]
  },
  {
   "cell_type": "code",
   "execution_count": 4,
   "metadata": {
    "grader_id": "eabkudss5a9"
   },
   "outputs": [
    {
     "name": "stdout",
     "output_type": "stream",
     "text": [
      "Good job!\n"
     ]
    }
   ],
   "source": [
    "given_name = \"William\"\n",
    "middle_names = \"Bradley\"\n",
    "family_name = \"Pitt\"\n",
    "\n",
    "# TODO: calculate how long this name is\n",
    "name_length = len(given_name + \" \" + middle_names + \" \" + family_name)\n",
    "\n",
    "# Now we check to make sure that the name fits within the named entity character limit\n",
    "# Uncomment the code below. You don't need to make changes to the code.\n",
    "\n",
    "# named_entity_character_limit = 28\n",
    "# print(name_length <= named_entity_character_limit)\n",
    "\n",
    "### Notebook grading\n",
    "if name_length == 20:\n",
    "    print(\"Good job!\")\n",
    "elif name_length == 18:\n",
    "    print(\"Your result doesn't match the solution. Did you remember to count for the spaces between each part of the name?\")\n",
    "else:\n",
    "    print(\"Your result doesn't match the solution. Double check your code.\")"
   ]
  },
  {
   "cell_type": "code",
   "execution_count": null,
   "metadata": {},
   "outputs": [],
   "source": []
  }
 ],
 "metadata": {
  "kernelspec": {
   "display_name": "Python 3 (ipykernel)",
   "language": "python",
   "name": "python3"
  },
  "language_info": {
   "codemirror_mode": {
    "name": "ipython",
    "version": 3
   },
   "file_extension": ".py",
   "mimetype": "text/x-python",
   "name": "python",
   "nbconvert_exporter": "python",
   "pygments_lexer": "ipython3",
   "version": "3.10.13"
  }
 },
 "nbformat": 4,
 "nbformat_minor": 2
}
